{
 "cells": [
  {
   "cell_type": "code",
   "execution_count": 1,
   "metadata": {},
   "outputs": [],
   "source": [
    "import numpy as np\n",
    "import matplotlib.pyplot as plt\n",
    "from astropy.io import fits\n",
    "import pandas as pd\n",
    "import sys\n",
    "import os\n",
    "from astropy import units as u\n",
    "from astropy.coordinates import SkyCoord,match_coordinates_sky\n",
    "from astroquery.gaia import Gaia\n",
    "from astropy.coordinates import Angle\n",
    "Gaia.MAIN_GAIA_TABLE = \"gaiadr3.gaia_source\""
   ]
  },
  {
   "cell_type": "code",
   "execution_count": 2,
   "metadata": {},
   "outputs": [
    {
     "name": "stderr",
     "output_type": "stream",
     "text": [
      "/var/folders/z1/8lm05_ks6676c0ppy4pxnrlm0000gn/T/ipykernel_14868/4151308728.py:4: DtypeWarning: Columns (57,61,62) have mixed types. Specify dtype option on import or set low_memory=False.\n",
      "  CSC=pd.read_csv(path+filename)\n"
     ]
    }
   ],
   "source": [
    "## read CSC 2.1\n",
    "path='/Users/baotong/Desktop/period_terzan5/CSC/'\n",
    "filename='CSC2.1p_OIR_SDSSspecmatch.csv'\n",
    "CSC=pd.read_csv(path+filename)\n",
    "ra_CSC=CSC['ra'];dec_CSC=CSC['dec']\n",
    "GAIA21P_source_id=CSC['GAIA21P_source_id']\n",
    "GAIA21P_ra=CSC['GAIA21P_ra']\n",
    "GAIA21P_dec=CSC['GAIA21P_dec']\n",
    "Sep_GAIA21P_CSC21P=CSC['Sep_GAIA21P_CSC21P']\n",
    "GAIA21P_g=CSC['GAIA21P_g']"
   ]
  },
  {
   "cell_type": "code",
   "execution_count": 4,
   "metadata": {},
   "outputs": [],
   "source": [
    "## read GC source info\n",
    "result_all = pd.read_excel('/Users/baotong/Desktop/period_terzan5/candidate_allGC.xlsx', 'all')\n",
    "ra_GC = np.array(result_all['ra'])\n",
    "dec_GC = np.array(result_all['dec'])\n",
    "seq_GC = np.array(result_all['seq'])\n",
    "period = np.array(result_all['period_all'])\n",
    "type = np.array(result_all['GC'])\n",
    "dist = np.array(result_all['proj_dist'])\n",
    "counts = np.array(result_all['counts'])\n",
    "exptime = np.array(result_all['expT'])\n",
    "L = np.array(result_all['L'])"
   ]
  },
  {
   "cell_type": "code",
   "execution_count": 5,
   "metadata": {},
   "outputs": [],
   "source": [
    "## match GC source to CSC 2.1\n",
    "c1 = SkyCoord(ra=ra_CSC * u.degree, dec=dec_CSC * u.degree)\n",
    "c2 = SkyCoord(ra=ra_GC * u.degree, dec=dec_GC * u.degree)\n",
    "idx, d2d, d3d = c2.match_to_catalog_sky(c1)\n",
    "d2d=Angle(d2d)\n",
    "d2d=d2d.arcsec"
   ]
  },
  {
   "cell_type": "code",
   "execution_count": 6,
   "metadata": {},
   "outputs": [],
   "source": [
    "ra_GAIA=np.array(GAIA21P_ra[idx]);dec_GAIA=np.array(GAIA21P_dec[idx])\n",
    "ID_GAIA=np.array(GAIA21P_source_id[idx])\n",
    "dis_GC_CSC=d2d\n",
    "ra_CSC=np.array(ra_CSC[idx]);dec_CSC=np.array(dec_CSC[idx])\n",
    "header = ['seq', 'GCname', 'period','ra','dec','ra_CSC','dec_CSC','sep_GC_CSC','ra_GAIA','dec_GAIA',\n",
    "          'sep_GC_GAIA','sep_CSC_GAIA','pmra','pmdec','pmra_GC','pmra_GC']"
   ]
  },
  {
   "cell_type": "code",
   "execution_count": 9,
   "metadata": {},
   "outputs": [
    {
     "name": "stdout",
     "output_type": "stream",
     "text": [
      "INFO: Query finished. [astroquery.utils.tap.core]\n",
      "5 1 276.1354269833861 -24.868888804615537\n",
      "INFO: Query finished. [astroquery.utils.tap.core]\n",
      "6 1 276.1595156123924 -25.02702283135197\n",
      "INFO: Query finished. [astroquery.utils.tap.core]\n",
      "7 1 255.2984520756828 -30.11134066447533\n",
      "INFO: Query finished. [astroquery.utils.tap.core]\n",
      "9 1 255.30638288363912 -30.108883584929643\n",
      "INFO: Query finished. [astroquery.utils.tap.core]\n",
      "10 1 265.2041279091693 -53.66356128324382\n",
      "INFO: Query finished. [astroquery.utils.tap.core]\n",
      "11 1 265.2888155609892 -53.58671614187193\n",
      "INFO: Query finished. [astroquery.utils.tap.core]\n",
      "12 1 265.17335844384104 -53.67208449739255\n",
      "INFO: Query finished. [astroquery.utils.tap.core]\n",
      "13 1 287.71420517631816 -59.98477717663332\n",
      "INFO: Query finished. [astroquery.utils.tap.core]\n",
      "14 1 287.71492291201434 -59.98381726110693\n",
      "INFO: Query finished. [astroquery.utils.tap.core]\n",
      "15 1 287.7623023191097 -59.99505215076608\n",
      "INFO: Query finished. [astroquery.utils.tap.core]\n",
      "20 1 267.06380632236005 -24.752393052647164\n",
      "INFO: Query finished. [astroquery.utils.tap.core]\n",
      "21 1 267.0180438231855 -24.77673242825109\n",
      "INFO: Query finished. [astroquery.utils.tap.core]\n",
      "22 1 267.0183769803359 -24.77734286424421\n",
      "INFO: Query finished. [astroquery.utils.tap.core]\n",
      "23 1 267.0190356246562 -24.778377500146824\n",
      "INFO: Query finished. [astroquery.utils.tap.core]\n",
      "24 1 267.01827118663186 -24.78440626400728\n",
      "INFO: Query finished. [astroquery.utils.tap.core]\n",
      "26 1 267.0209730676338 -24.77813532051402\n",
      "INFO: Query finished. [astroquery.utils.tap.core]\n",
      "27 1 267.01921946716845 -24.77930247189263\n",
      "INFO: Query finished. [astroquery.utils.tap.core]\n",
      "28 1 267.0160200947728 -24.77828394278432\n",
      "INFO: Query finished. [astroquery.utils.tap.core]\n",
      "29 1 6.066288008464426 -72.07679239689979\n",
      "INFO: Query finished. [astroquery.utils.tap.core]\n",
      "31 1 6.066288008464426 -72.07679239689979\n",
      "INFO: Query finished. [astroquery.utils.tap.core]\n",
      "33 1 6.070791153353753 -72.07423437130886\n",
      "INFO: Query finished. [astroquery.utils.tap.core]\n",
      "37 1 6.023632019372201 -72.08035581717851\n",
      "INFO: Query finished. [astroquery.utils.tap.core]\n",
      "38 1 6.029836561438685 -72.09607497435768\n"
     ]
    }
   ],
   "source": [
    "# 将数据转换为 DataFrame\n",
    "data_list = []\n",
    "for i in range(len(ra_GAIA)):\n",
    "    if np.isnan(ra_GAIA[i]):\n",
    "        row=[seq_GC[i],type[i],period[i],ra_GC[i],dec_GC[i],ra_CSC[i],dec_CSC[i],dis_GC_CSC[i],\n",
    "             0,0,0,0,0,0,0,0]\n",
    "        data_list.append(row)\n",
    "        continue\n",
    "    else:\n",
    "        coord = SkyCoord(ra=ra_GAIA[i], dec=dec_GAIA[i], unit=(u.degree, u.degree), frame='icrs')\n",
    "        width = u.Quantity(1, u.arcsec)\n",
    "        height = u.Quantity(1, u.arcsec)\n",
    "        r = Gaia.query_object_async(coordinate=coord, width=width, height=height)\n",
    "        if len(r)==0:\n",
    "            row = [seq_GC[i], type[i], period[i], ra_GC[i], dec_GC[i], ra_CSC[i], dec_CSC[i], dis_GC_CSC[i],\n",
    "                   0, 0, 0, 0, 0, 0, 0, 0]\n",
    "            data_list.append(row)\n",
    "            print('what',i)\n",
    "            continue\n",
    "        print(i,len(r),ra_CSC[i],dec_CSC[i])\n",
    "        c1 = SkyCoord(ra=r[0]['ra'] * u.degree, dec=r[0]['dec'] * u.degree)\n",
    "        c2 = SkyCoord(ra=ra_GC[i] * u.degree, dec=dec_GC[i] * u.degree)\n",
    "        cc = SkyCoord(ra_CSC[i] * u.deg, dec_CSC[i] * u.deg, frame='fk5')\n",
    "        dist1 = c1.separation(c2);dist1=dist1.arcsec\n",
    "        dist2 = c1.separation(cc);dist2=dist2.arcsec\n",
    "        row=[seq_GC[i],type[i],period[i],ra_GC[i],dec_GC[i],ra_CSC[i],dec_CSC[i],dis_GC_CSC[i],\n",
    "             ra_GAIA[i],dec_GAIA[i],dist1,dist2,r[0]['pmra'],r[0]['pmdec'],0,0]\n",
    "        data_list.append(row)\n",
    "        # r.pprint(max_lines=12, max_width=130)\n",
    "df = pd.DataFrame(data_list, columns=header)"
   ]
  },
  {
   "cell_type": "code",
   "execution_count": 10,
   "metadata": {},
   "outputs": [],
   "source": [
    "df.to_csv(path+'match_allres_GAIA.csv', index=False)"
   ]
  }
 ],
 "metadata": {
  "kernelspec": {
   "display_name": "base",
   "language": "python",
   "name": "python3"
  },
  "language_info": {
   "codemirror_mode": {
    "name": "ipython",
    "version": 3
   },
   "file_extension": ".py",
   "mimetype": "text/x-python",
   "name": "python",
   "nbconvert_exporter": "python",
   "pygments_lexer": "ipython3",
   "version": "3.8.5"
  }
 },
 "nbformat": 4,
 "nbformat_minor": 2
}
