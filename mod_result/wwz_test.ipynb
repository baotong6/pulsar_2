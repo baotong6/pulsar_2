{
 "cells": [
  {
   "cell_type": "code",
   "execution_count": 24,
   "metadata": {},
   "outputs": [],
   "source": [
    "import warnings\n",
    "warnings.filterwarnings('ignore')"
   ]
  },
  {
   "cell_type": "code",
   "execution_count": 25,
   "metadata": {},
   "outputs": [],
   "source": [
    "import numpy as np\n",
    "import matplotlib.pyplot as plt\n",
    "from astropy.io import fits\n",
    "import pandas as pd\n",
    "import sys\n",
    "import os\n",
    "from scipy import interpolate\n",
    "from astropy import units as u\n",
    "from astropy.coordinates import SkyCoord\n",
    "from astropy.io import fits\n",
    "from scipy.optimize import curve_fit\n",
    "import astropy.units as u\n",
    "import astropy.constants as c"
   ]
  },
  {
   "cell_type": "code",
   "execution_count": 3,
   "metadata": {},
   "outputs": [],
   "source": [
    "import libwwz"
   ]
  },
  {
   "cell_type": "code",
   "execution_count": 4,
   "metadata": {},
   "outputs": [],
   "source": [
    "from astropy.timeseries import LombScargle"
   ]
  },
  {
   "cell_type": "code",
   "execution_count": 26,
   "metadata": {},
   "outputs": [],
   "source": [
    "import stingray as sr\n",
    "from stingray.events import EventList\n",
    "from stingray.lightcurve import Lightcurve\n",
    "from stingray import Lightcurve, Crossspectrum, sampledata,Powerspectrum,AveragedPowerspectrum\n",
    "from stingray.simulator import simulator, models"
   ]
  },
  {
   "cell_type": "code",
   "execution_count": 5,
   "metadata": {},
   "outputs": [
    {
     "name": "stdout",
     "output_type": "stream",
     "text": [
      "Help on package libwwz:\n",
      "\n",
      "NAME\n",
      "    libwwz - Exposes the wwt function directly without import the wwz module.\n",
      "\n",
      "PACKAGE CONTENTS\n",
      "    plot_methods\n",
      "    wwz\n",
      "\n",
      "FILE\n",
      "    /Users/baotong/opt/anaconda3/lib/python3.8/site-packages/libwwz/__init__.py\n",
      "\n",
      "\n"
     ]
    }
   ],
   "source": [
    "help(libwwz)"
   ]
  },
  {
   "cell_type": "code",
   "execution_count": 27,
   "metadata": {},
   "outputs": [],
   "source": [
    "def get_hist(t, len_bin):\n",
    "    ###将输入的time信息，按照len_bin的长度输出为lc\n",
    "    t_test = t-t[0]\n",
    "    a = [0 for i in range(int(t_test[-1] / len_bin) + 1)]\n",
    "    for i in range(len(t_test)):\n",
    "        a[int(t_test[i] / len_bin)] += 1\n",
    "    a = np.array(a)\n",
    "    return a"
   ]
  },
  {
   "cell_type": "code",
   "execution_count": 47,
   "metadata": {},
   "outputs": [],
   "source": [
    "dt = 2  # seconds\n",
    "long_dt = 2  # seconds\n",
    "long_exposure = 160.  # seconds\n",
    "long_times = np.arange(0, long_exposure, long_dt)  # seconds\n",
    "# In count rate units here\n",
    "long_signal = 100 * np.sin(2.*np.pi*long_times/10) + 1000\n",
    "\n",
    "# Multiply by dt to get count units, then add Poisson noise\n",
    "long_noisy = np.random.poisson(long_signal*long_dt)"
   ]
  },
  {
   "cell_type": "code",
   "execution_count": 48,
   "metadata": {},
   "outputs": [
    {
     "name": "stderr",
     "output_type": "stream",
     "text": [
      "WARNING:root:Checking if light curve is well behaved. This can take time, so if you are sure it is already sorted, specify skip_checks=True at light curve creation.\n",
      "WARNING:root:Checking if light curve is sorted.\n",
      "WARNING:root:Computing the bin time ``dt``. This can take time. If you know the bin time, please specify it at light curve creation\n"
     ]
    }
   ],
   "source": [
    "long_lc = Lightcurve(long_times, long_noisy)"
   ]
  },
  {
   "cell_type": "code",
   "execution_count": 49,
   "metadata": {},
   "outputs": [
    {
     "name": "stdout",
     "output_type": "stream",
     "text": [
      "Help on function wwt in module libwwz.wwz:\n",
      "\n",
      "wwt(timestamps: numpy.ndarray, magnitudes: numpy.ndarray, time_divisions: int, freq_params: list, decay_constant: float, method: str = 'linear', parallel: bool = True) -> numpy.ndarray\n",
      "    The code is based on G. Foster's FORTRAN\n",
      "    code as well as eaydin's python 2.7 code. The code is updated to use numpy methods and allow for float value tau.\n",
      "    It returns an array with matrix of new evenly spaced timestamps, frequencies, wwz-power, amplitude, coefficients,\n",
      "    and effective number. Specific equations can be found on Grant Foster's \"WAVELETS FOR PERIOD ANALYSIS OF UNEVENLY\n",
      "    SAMPLED TIME SERIES\". Some of the equations are labeled in the code with corresponding numbers.\n",
      "    \n",
      "    :param timestamps: An array with corresponding times for the magnitude (payload).\n",
      "    :param magnitudes: An array with payload values\n",
      "    :param time_divisions: number of divisions for the new timestamps\n",
      "    :param freq_params: A list containing parameters for making frequency bands to analyze over with given 'method'\n",
      "            'linear' -> [freq_low, freq_high, freq_step, override]\n",
      "            'octave' -> [freq_tg, freq_low, freq_high, band_order, log_scale_base, override]\n",
      "    :param decay_constant: decay constant for the Morlet wavelet (should be <0.02) eq. 1-2\n",
      "            c = 1/(2w), the wavelet decays significantly after a single cycle of 2 * pi / w\n",
      "    :param method: determines method of creating freq ('linear', 'octave') default 'linear'\n",
      "    :param parallel: boolean indicate to use parallel processing or not\n",
      "    :return: Tau, Freq, WWZ, AMP, COEF, NEFF in a numpy array\n",
      "\n"
     ]
    }
   ],
   "source": [
    "help(libwwz.wwt)"
   ]
  },
  {
   "cell_type": "code",
   "execution_count": 28,
   "metadata": {},
   "outputs": [],
   "source": [
    "freq=np.arange(1/10.,1./0.5,1/500)"
   ]
  },
  {
   "cell_type": "code",
   "execution_count": 29,
   "metadata": {},
   "outputs": [
    {
     "name": "stdout",
     "output_type": "stream",
     "text": [
      "[5.21641133e+09 5.21641133e+09 5.21641134e+09 5.21641138e+09\n",
      " 5.21641138e+09 5.21641140e+09 5.21641142e+09 5.21641142e+09\n",
      " 5.21641144e+09 5.21641144e+09 5.21641144e+09 5.21641145e+09\n",
      " 5.21641145e+09 5.21641148e+09 5.21641150e+09 5.21641151e+09\n",
      " 5.21641151e+09 5.21641152e+09 5.21641153e+09 5.21641154e+09\n",
      " 5.21641154e+09 5.21641155e+09 5.21641155e+09 5.21641155e+09\n",
      " 5.21641157e+09 5.21641158e+09 5.21641158e+09 5.21641160e+09\n",
      " 5.21641161e+09 5.21641161e+09 5.21641164e+09 5.21641165e+09\n",
      " 5.21641166e+09 5.21641168e+09 5.21641168e+09 5.21641169e+09\n",
      " 5.21641170e+09 5.21641170e+09 5.21641171e+09 5.21641172e+09\n",
      " 5.21641172e+09 5.21641173e+09 5.21641174e+09 5.21641174e+09\n",
      " 5.21641174e+09 5.21641174e+09 5.21641176e+09 5.21641176e+09\n",
      " 5.21641178e+09 5.21641178e+09 5.21641178e+09 5.21641180e+09\n",
      " 5.21641181e+09 5.21641181e+09 5.21641181e+09 5.21641183e+09\n",
      " 5.21641183e+09 5.21641184e+09 5.21641187e+09 5.21641187e+09\n",
      " 5.21641187e+09 5.21641188e+09 5.21641189e+09 5.21641189e+09\n",
      " 5.21641189e+09 5.21641192e+09 5.21641192e+09 5.21641192e+09\n",
      " 5.21641193e+09 5.21641194e+09 5.21641195e+09 5.21641195e+09\n",
      " 5.21641195e+09 5.21641195e+09 5.21641195e+09 5.21641197e+09\n",
      " 5.21641197e+09 5.21641197e+09 5.21641198e+09 5.21641198e+09\n",
      " 5.21641199e+09 5.21641199e+09 5.21641200e+09 5.21641201e+09\n",
      " 5.21641204e+09 5.21641204e+09 5.21641207e+09 5.21641208e+09\n",
      " 5.21641209e+09 5.21641212e+09 5.21641213e+09 5.21641213e+09\n",
      " 5.21641213e+09 5.21641214e+09 5.21641215e+09 5.21641216e+09\n",
      " 5.21641217e+09 5.21641216e+09 5.21641217e+09 5.21641218e+09\n",
      " 5.21641219e+09 5.21641221e+09 5.21641221e+09 5.21641221e+09\n",
      " 5.21641222e+09 5.21641224e+09 5.21641228e+09 5.21641228e+09\n",
      " 5.21641228e+09 5.21641231e+09 5.21641232e+09 5.21641232e+09\n",
      " 5.21641233e+09 5.21641233e+09 5.21641234e+09 5.21641234e+09\n",
      " 5.21641234e+09 5.21641235e+09 5.21641235e+09 5.21641235e+09\n",
      " 5.21641238e+09 5.21641238e+09 5.21641240e+09 5.21641241e+09\n",
      " 5.21641241e+09 5.21641242e+09 5.21641243e+09 5.21641244e+09\n",
      " 5.21641245e+09 5.21641247e+09 5.21641247e+09 5.21641248e+09\n",
      " 5.21641249e+09 5.21641250e+09 5.21641250e+09 5.21641253e+09\n",
      " 5.21641255e+09 5.21641256e+09 5.21641256e+09 5.21641256e+09\n",
      " 5.21641256e+09 5.21641256e+09 5.21641258e+09 5.21641260e+09\n",
      " 5.21641260e+09 5.21641260e+09 5.21641261e+09 5.21641261e+09\n",
      " 5.21641262e+09 5.21641262e+09 5.21641263e+09 5.21641264e+09\n",
      " 5.21641267e+09 5.21641268e+09 5.21641268e+09 5.21641269e+09\n",
      " 5.21641271e+09 5.21641273e+09 5.21641273e+09 5.21641274e+09\n",
      " 5.21641274e+09 5.21641275e+09 5.21641276e+09 5.21641276e+09\n",
      " 5.21641277e+09 5.21641279e+09 5.21641280e+09 5.21641283e+09\n",
      " 5.21641283e+09 5.21641284e+09 5.21641284e+09 5.21641284e+09\n",
      " 5.21641285e+09 5.21641288e+09 5.21641288e+09 5.21641288e+09\n",
      " 5.21641289e+09 5.21641289e+09 5.21641289e+09 5.21641291e+09\n",
      " 5.21641294e+09 5.21641294e+09 5.21641294e+09 5.21641294e+09\n",
      " 5.21641295e+09 5.21641296e+09 5.21641296e+09 5.21641296e+09\n",
      " 5.21641296e+09 5.21641297e+09 5.21641298e+09 5.21641298e+09\n",
      " 5.21641298e+09 5.21641298e+09 5.21641298e+09 5.21641300e+09\n",
      " 5.21641301e+09 5.21641301e+09 5.21641302e+09 5.21641302e+09\n",
      " 5.21641302e+09 5.21641303e+09 5.21641304e+09 5.21641304e+09\n",
      " 5.21641304e+09 5.21641306e+09 5.21641306e+09 5.21641306e+09\n",
      " 5.21641306e+09 5.21641308e+09 5.21641308e+09 5.21641309e+09\n",
      " 5.21641311e+09 5.21641313e+09 5.21641314e+09 5.21641315e+09\n",
      " 5.21641315e+09 5.21641315e+09 5.21641317e+09 5.21641318e+09\n",
      " 5.21641318e+09 5.21641318e+09 5.21641319e+09 5.21641321e+09\n",
      " 5.21641323e+09 5.21641323e+09 5.21641324e+09 5.21641324e+09\n",
      " 5.21641324e+09 5.21641325e+09 5.21641326e+09 5.21641326e+09\n",
      " 5.21641329e+09 5.21641329e+09 5.21641329e+09 5.21641329e+09\n",
      " 5.21641329e+09 5.21641330e+09 5.21641332e+09 5.21641333e+09\n",
      " 5.21641333e+09 5.21641334e+09 5.21641334e+09 5.21641335e+09\n",
      " 5.21641335e+09 5.21641337e+09 5.21641338e+09 5.21641338e+09\n",
      " 5.21641338e+09 5.21641338e+09 5.21641338e+09 5.21641339e+09\n",
      " 5.21641341e+09 5.21641341e+09 5.21641341e+09 5.21641342e+09\n",
      " 5.21641342e+09 5.21641342e+09 5.21641343e+09 5.21641343e+09\n",
      " 5.21641343e+09 5.21641344e+09 5.21641344e+09 5.21641346e+09\n",
      " 5.21641348e+09 5.21641348e+09 5.21641349e+09 5.21641349e+09\n",
      " 5.21641349e+09 5.21641349e+09 5.21641350e+09 5.21641350e+09\n",
      " 5.21641350e+09 5.21641351e+09 5.21641352e+09 5.21641352e+09\n",
      " 5.21641353e+09 5.21641354e+09 5.21641354e+09 5.21641354e+09\n",
      " 5.21641355e+09 5.21641355e+09 5.21641357e+09 5.21641358e+09\n",
      " 5.21641358e+09 5.21641360e+09 5.21641360e+09 5.21641361e+09\n",
      " 5.21641362e+09 5.21641363e+09 5.21641363e+09 5.21641365e+09\n",
      " 5.21641366e+09 5.21641369e+09 5.21641370e+09 5.21641370e+09\n",
      " 5.21641373e+09 5.21641373e+09 5.21641374e+09 5.21641375e+09\n",
      " 5.21641375e+09 5.21641376e+09 5.21641377e+09 5.21641378e+09\n",
      " 5.21641380e+09 5.21641383e+09 5.21641386e+09 5.21641389e+09\n",
      " 5.21641390e+09 5.21641391e+09 5.21641392e+09 5.21641392e+09\n",
      " 5.21641393e+09 5.21641394e+09 5.21641395e+09 5.21641395e+09\n",
      " 5.21641395e+09 5.21641396e+09 5.21641398e+09 5.21641398e+09\n",
      " 5.21641399e+09 5.21641400e+09 5.21641400e+09 5.21641401e+09\n",
      " 5.21641401e+09 5.21641402e+09 5.21641403e+09 5.21641403e+09\n",
      " 5.21641403e+09 5.21641403e+09 5.21641403e+09 5.21641403e+09\n",
      " 5.21641404e+09 5.21641404e+09 5.21641405e+09 5.21641406e+09\n",
      " 5.21641406e+09 5.21641406e+09 5.21641407e+09 5.21641408e+09\n",
      " 5.21641408e+09 5.21641408e+09 5.21641409e+09 5.21641409e+09\n",
      " 5.21641410e+09 5.21641411e+09 5.21641414e+09 5.21641416e+09\n",
      " 5.21641416e+09 5.21641417e+09 5.21641419e+09 5.21641419e+09\n",
      " 5.21641419e+09 5.21641420e+09 5.21641420e+09 5.21641420e+09\n",
      " 5.21641421e+09 5.21641421e+09 5.21641422e+09 5.21641422e+09\n",
      " 5.21641423e+09 5.21641423e+09 5.21641424e+09 5.21641424e+09\n",
      " 5.21641425e+09 5.21641425e+09 5.21641426e+09 5.21641426e+09\n",
      " 5.21641426e+09 5.21641426e+09 5.21641426e+09 5.21641428e+09\n",
      " 5.21641429e+09 5.21641430e+09 5.21641430e+09 5.21641432e+09\n",
      " 5.21641432e+09 5.21641432e+09 5.21641432e+09 5.21641432e+09\n",
      " 5.21641432e+09 5.21641432e+09 5.21641433e+09 5.21641433e+09\n",
      " 5.21641434e+09 5.21641435e+09 5.21641435e+09 5.21641436e+09\n",
      " 5.21641436e+09 5.21641437e+09 5.21641439e+09 5.21641440e+09\n",
      " 5.21641440e+09 5.21641441e+09 5.21641442e+09 5.21641442e+09\n",
      " 5.21641443e+09 5.21641444e+09 5.21641445e+09 5.21641447e+09\n",
      " 5.21641447e+09 5.21641449e+09 5.21641451e+09 5.21641452e+09\n",
      " 5.21641452e+09 5.21641454e+09 5.21641455e+09 5.21641456e+09\n",
      " 5.21641457e+09 5.21641457e+09 5.21641459e+09 5.21641460e+09\n",
      " 5.21641460e+09 5.21641463e+09 5.21641463e+09 5.21641467e+09\n",
      " 5.21641469e+09 5.21641469e+09 5.21641470e+09 5.21641471e+09\n",
      " 5.21641472e+09 5.21641473e+09 5.21641473e+09 5.21641475e+09\n",
      " 5.21641475e+09 5.21641475e+09 5.21641476e+09 5.21641476e+09\n",
      " 5.21641476e+09 5.21641478e+09 5.21641479e+09 5.21641479e+09\n",
      " 5.21641479e+09 5.21641480e+09 5.21641481e+09 5.21641482e+09\n",
      " 5.21641482e+09 5.21641485e+09 5.21641487e+09 5.21641489e+09\n",
      " 5.21641489e+09 5.21641490e+09 5.21641490e+09 5.21641490e+09\n",
      " 5.21641491e+09 5.21641491e+09 5.21641494e+09 5.21641495e+09\n",
      " 5.21641497e+09 5.21641500e+09 5.21641500e+09 5.21641500e+09\n",
      " 5.21641501e+09 5.21641501e+09 5.21641502e+09 5.21641502e+09\n",
      " 5.21641503e+09 5.21641503e+09 5.21641504e+09 5.21641504e+09\n",
      " 5.21641504e+09 5.21641504e+09 5.21641504e+09 5.21641504e+09\n",
      " 5.21641505e+09 5.21641506e+09 5.21641507e+09 5.21641511e+09\n",
      " 5.21641513e+09 5.21641514e+09 5.21641515e+09 5.21641517e+09\n",
      " 5.21641518e+09 5.21641518e+09 5.21641519e+09 5.21641519e+09\n",
      " 5.21641520e+09 5.21641520e+09 5.21641520e+09 5.21641520e+09\n",
      " 5.21641521e+09 5.21641521e+09 5.21641521e+09 5.21641521e+09\n",
      " 5.21641521e+09 5.21641521e+09 5.21641522e+09 5.21641522e+09\n",
      " 5.21641523e+09 5.21641523e+09 5.21641524e+09 5.21641525e+09\n",
      " 5.21641525e+09 5.21641526e+09 5.21641526e+09 5.21641528e+09\n",
      " 5.21641528e+09 5.21641529e+09 5.21641530e+09 5.21641531e+09\n",
      " 5.21641531e+09 5.21641531e+09 5.21641534e+09 5.21641534e+09\n",
      " 5.21641537e+09 5.21641540e+09 5.21641540e+09 5.21641541e+09\n",
      " 5.21641542e+09 5.21641542e+09 5.21641542e+09 5.21641542e+09\n",
      " 5.21641542e+09 5.21641542e+09 5.21641543e+09 5.21641543e+09\n",
      " 5.21641543e+09 5.21641544e+09 5.21641544e+09 5.21641545e+09\n",
      " 5.21641546e+09 5.21641546e+09 5.21641546e+09 5.21641546e+09\n",
      " 5.21641546e+09 5.21641546e+09 5.21641549e+09 5.21641549e+09\n",
      " 5.21641550e+09 5.21641552e+09 5.21641552e+09 5.21641553e+09\n",
      " 5.21641553e+09 5.21641553e+09 5.21641554e+09 5.21641554e+09\n",
      " 5.21641554e+09 5.21641556e+09 5.21641556e+09 5.21641556e+09\n",
      " 5.21641556e+09 5.21641557e+09 5.21641559e+09 5.21641559e+09\n",
      " 5.21641564e+09 5.21641565e+09 5.21641566e+09 5.21641566e+09\n",
      " 5.21641566e+09 5.21641567e+09 5.21641568e+09 5.21641569e+09\n",
      " 5.21641568e+09 5.21641570e+09 5.21641570e+09 5.21641570e+09\n",
      " 5.21641571e+09 5.21641573e+09 5.21641573e+09 5.21641573e+09\n",
      " 5.21641574e+09 5.21641576e+09 5.21641576e+09 5.21641577e+09\n",
      " 5.21641577e+09 5.21641578e+09 5.21641578e+09 5.21641582e+09\n",
      " 5.21641582e+09 5.21641582e+09 5.21641588e+09 5.21641588e+09\n",
      " 5.21641590e+09 5.21641591e+09 5.21641591e+09 5.21641594e+09\n",
      " 5.21641594e+09 5.21641595e+09 5.21641596e+09 5.21641596e+09\n",
      " 5.21641596e+09 5.21641597e+09 5.21641598e+09 5.21641599e+09\n",
      " 5.21641600e+09 5.21641601e+09 5.21641601e+09 5.21641602e+09\n",
      " 5.21641602e+09 5.21641602e+09 5.21641602e+09 5.21641604e+09\n",
      " 5.21641605e+09 5.21641605e+09 5.21641606e+09 5.21641606e+09\n",
      " 5.21641609e+09 5.21641609e+09 5.21641610e+09 5.21641611e+09\n",
      " 5.21641611e+09 5.21641611e+09 5.21641612e+09 5.21641612e+09\n",
      " 5.21641612e+09 5.21641613e+09 5.21641616e+09 5.21641620e+09\n",
      " 5.21641621e+09 5.21641622e+09 5.21641622e+09 5.21641623e+09\n",
      " 5.21641623e+09 5.21641624e+09 5.21641626e+09 5.21641626e+09\n",
      " 5.21641627e+09 5.21641629e+09 5.21641630e+09 5.21641630e+09\n",
      " 5.21641631e+09 5.21641631e+09 5.21641631e+09 5.21641631e+09\n",
      " 5.21641632e+09 5.21641634e+09 5.21641634e+09 5.21641634e+09\n",
      " 5.21641635e+09 5.21641635e+09 5.21641635e+09 5.21641635e+09\n",
      " 5.21641635e+09 5.21641635e+09 5.21641636e+09 5.21641637e+09\n",
      " 5.21641638e+09 5.21641640e+09 5.21641641e+09 5.21641643e+09\n",
      " 5.21641644e+09 5.21641645e+09 5.21641646e+09 5.21641646e+09\n",
      " 5.21641647e+09 5.21641648e+09 5.21641651e+09 5.21641653e+09\n",
      " 5.21641653e+09 5.21641653e+09 5.21641653e+09 5.21641655e+09\n",
      " 5.21641656e+09 5.21641657e+09 5.21641658e+09 5.21641661e+09\n",
      " 5.21641661e+09 5.21641661e+09 5.21641662e+09 5.21641663e+09\n",
      " 5.21641665e+09 5.21641665e+09 5.21641665e+09 5.21641665e+09\n",
      " 5.21641665e+09 5.21641666e+09 5.21641668e+09 5.21641669e+09\n",
      " 5.21641669e+09 5.21641669e+09 5.21641671e+09 5.21641672e+09\n",
      " 5.21641672e+09 5.21641672e+09 5.21641673e+09 5.21641673e+09\n",
      " 5.21641674e+09 5.21641675e+09 5.21641678e+09 5.21641678e+09\n",
      " 5.21641680e+09 5.21641680e+09 5.21641684e+09 5.21641685e+09\n",
      " 5.21641686e+09 5.21641687e+09 5.21641687e+09 5.21641688e+09\n",
      " 5.21641689e+09 5.21641689e+09 5.21641689e+09 5.21641689e+09\n",
      " 5.21641693e+09 5.21641694e+09 5.21641695e+09 5.21641695e+09\n",
      " 5.21641696e+09 5.21641698e+09 5.21641699e+09 5.21641699e+09\n",
      " 5.21641700e+09 5.21641701e+09 5.21641709e+09 5.21641710e+09\n",
      " 5.21641711e+09 5.21641712e+09 5.21641712e+09 5.21641714e+09\n",
      " 5.21641714e+09 5.21641714e+09 5.21641716e+09 5.21641717e+09\n",
      " 5.21641718e+09 5.21641718e+09 5.21641719e+09 5.21641721e+09\n",
      " 5.21641721e+09 5.21641724e+09 5.21641726e+09 5.21641726e+09\n",
      " 5.21641726e+09 5.21641727e+09 5.21641727e+09 5.21641729e+09\n",
      " 5.21641729e+09 5.21641731e+09 5.21641732e+09 5.21641734e+09\n",
      " 5.21641734e+09 5.21641734e+09 5.21641734e+09 5.21641736e+09\n",
      " 5.21641737e+09 5.21641738e+09 5.21641738e+09 5.21641742e+09\n",
      " 5.21641744e+09 5.21641744e+09 5.21641744e+09 5.21641744e+09\n",
      " 5.21641746e+09 5.21641746e+09 5.21641746e+09 5.21641747e+09\n",
      " 5.21641749e+09 5.21641754e+09 5.21641758e+09 5.21641760e+09\n",
      " 5.21641760e+09 5.21641760e+09 5.21641763e+09 5.21641763e+09\n",
      " 5.21641763e+09 5.21641763e+09 5.21641763e+09 5.21641763e+09\n",
      " 5.21641764e+09 5.21641764e+09 5.21641767e+09 5.21641767e+09\n",
      " 5.21641768e+09 5.21641768e+09 5.21641769e+09 5.21641769e+09\n",
      " 5.21641769e+09 5.21641770e+09 5.21641770e+09 5.21641770e+09\n",
      " 5.21641771e+09 5.21641771e+09 5.21641772e+09 5.21641772e+09\n",
      " 5.21641773e+09 5.21641773e+09 5.21641774e+09 5.21641774e+09\n",
      " 5.21641774e+09 5.21641776e+09 5.21641776e+09 5.21641776e+09\n",
      " 5.21641777e+09 5.21641778e+09 5.21641779e+09 5.21641780e+09\n",
      " 5.21641780e+09 5.21641780e+09 5.21641781e+09 5.21641781e+09\n",
      " 5.21641781e+09 5.21641781e+09 5.21641781e+09 5.21641782e+09\n",
      " 5.21641782e+09 5.21641783e+09 5.21641783e+09 5.21641786e+09\n",
      " 5.21641786e+09 5.21641786e+09 5.21641786e+09 5.21641787e+09\n",
      " 5.21641788e+09 5.21641790e+09 5.21641790e+09 5.21641790e+09\n",
      " 5.21641791e+09 5.21641792e+09 5.21641795e+09 5.21641796e+09\n",
      " 5.21641797e+09 5.21641799e+09 5.21641798e+09 5.21641799e+09\n",
      " 5.21641799e+09 5.21641803e+09 5.21641804e+09 5.21641804e+09\n",
      " 5.21641804e+09 5.21641805e+09 5.21641805e+09 5.21641806e+09\n",
      " 5.21641806e+09 5.21641807e+09 5.21641807e+09 5.21641808e+09\n",
      " 5.21641808e+09 5.21641810e+09 5.21641812e+09 5.21641812e+09\n",
      " 5.21641812e+09 5.21641813e+09 5.21641813e+09 5.21641814e+09\n",
      " 5.21641814e+09 5.21641815e+09 5.21641815e+09 5.21641815e+09\n",
      " 5.21641815e+09 5.21641816e+09 5.21641816e+09 5.21641818e+09\n",
      " 5.21641818e+09 5.21641822e+09 5.21641822e+09 5.21641824e+09\n",
      " 5.21641826e+09 5.21641827e+09 5.21641827e+09 5.21641828e+09\n",
      " 5.21641829e+09 5.21641830e+09 5.21641832e+09 5.21641834e+09\n",
      " 5.21641835e+09 5.21641836e+09 5.21641837e+09 5.21641839e+09\n",
      " 5.21641840e+09 5.21641840e+09 5.21641842e+09 5.21641845e+09\n",
      " 5.21641846e+09 5.21641847e+09 5.21641847e+09 5.21641847e+09\n",
      " 5.21641847e+09]\n"
     ]
    }
   ],
   "source": [
    "bin_len=0.1\n",
    "path='/Users/baotong/Desktop/FRBtime/'\n",
    "filename='FRB240114A_0306.txt'\n",
    "time=np.loadtxt(path+filename)*86400\n",
    "print(time)\n",
    "T_exp = time[-1] - time[0]\n",
    "# freq=np.arange(1/T_exp,0.5/bin_len,1/(5*T_exp))            \n",
    "flux=get_hist(time,bin_len)\n",
    "x=np.arange(bin_len/2.,(time[-1]-time[0])+bin_len/2.,bin_len)"
   ]
  },
  {
   "cell_type": "code",
   "execution_count": 30,
   "metadata": {},
   "outputs": [
    {
     "name": "stdout",
     "output_type": "stream",
     "text": [
      "*** Starting Weighted Wavelet Z-transform ***\n",
      "\n",
      "Pseudo sample frequency (median) is  10.0\n",
      "largest tau window is  792.867\n",
      "6.69 seconds has passed to complete Weighted Wavelet Z-transform \n",
      "\n"
     ]
    }
   ],
   "source": [
    "[Tau, Freq, WWZ, AMP, COEF, NEFF]=libwwz.wwt(timestamps=x,magnitudes=flux,time_divisions=10,freq_params=[freq[0],freq[-1],freq[-1]-freq[-2],False],decay_constant=1e-3)"
   ]
  },
  {
   "cell_type": "code",
   "execution_count": 32,
   "metadata": {},
   "outputs": [
    {
     "data": {
      "application/vnd.jupyter.widget-view+json": {
       "model_id": "2f89365ad69b4a86965a12bbfdc503e6",
       "version_major": 2,
       "version_minor": 0
      },
      "text/plain": [
       "Canvas(toolbar=Toolbar(toolitems=[('Home', 'Reset original view', 'home', 'home'), ('Back', 'Back to previous …"
      ]
     },
     "metadata": {},
     "output_type": "display_data"
    },
    {
     "ename": "KeyError",
     "evalue": "'default'",
     "output_type": "error",
     "traceback": [
      "\u001b[0;31m---------------------------------------------------------------------------\u001b[0m",
      "\u001b[0;31mKeyError\u001b[0m                                  Traceback (most recent call last)",
      "File \u001b[0;32m~/opt/anaconda3/lib/python3.8/site-packages/matplotlib/backend_bases.py:3030\u001b[0m, in \u001b[0;36mNavigationToolbar2._wait_cursor_for_draw_cm\u001b[0;34m(self)\u001b[0m\n\u001b[1;32m   3029\u001b[0m \u001b[39mtry\u001b[39;00m:\n\u001b[0;32m-> 3030\u001b[0m     \u001b[39mself\u001b[39;49m\u001b[39m.\u001b[39;49mcanvas\u001b[39m.\u001b[39;49mset_cursor(tools\u001b[39m.\u001b[39;49mCursors\u001b[39m.\u001b[39;49mWAIT)\n\u001b[1;32m   3031\u001b[0m     \u001b[39myield\u001b[39;00m\n",
      "File \u001b[0;32m~/opt/anaconda3/lib/python3.8/site-packages/matplotlib/backends/backend_webagg_core.py:210\u001b[0m, in \u001b[0;36mFigureCanvasWebAggCore.set_cursor\u001b[0;34m(self, cursor)\u001b[0m\n\u001b[1;32m    201\u001b[0m cursor \u001b[39m=\u001b[39m _api\u001b[39m.\u001b[39mcheck_getitem({\n\u001b[1;32m    202\u001b[0m     backend_tools\u001b[39m.\u001b[39mCursors\u001b[39m.\u001b[39mHAND: \u001b[39m'\u001b[39m\u001b[39mpointer\u001b[39m\u001b[39m'\u001b[39m,\n\u001b[1;32m    203\u001b[0m     backend_tools\u001b[39m.\u001b[39mCursors\u001b[39m.\u001b[39mPOINTER: \u001b[39m'\u001b[39m\u001b[39mdefault\u001b[39m\u001b[39m'\u001b[39m,\n\u001b[0;32m   (...)\u001b[0m\n\u001b[1;32m    208\u001b[0m     backend_tools\u001b[39m.\u001b[39mCursors\u001b[39m.\u001b[39mRESIZE_VERTICAL: \u001b[39m'\u001b[39m\u001b[39mns-resize\u001b[39m\u001b[39m'\u001b[39m,\n\u001b[1;32m    209\u001b[0m }, cursor\u001b[39m=\u001b[39mcursor)\n\u001b[0;32m--> 210\u001b[0m \u001b[39mself\u001b[39;49m\u001b[39m.\u001b[39;49msend_event(\u001b[39m'\u001b[39;49m\u001b[39mcursor\u001b[39;49m\u001b[39m'\u001b[39;49m, cursor\u001b[39m=\u001b[39;49mcursor)\n",
      "File \u001b[0;32m~/opt/anaconda3/lib/python3.8/site-packages/matplotlib/backends/backend_webagg_core.py:392\u001b[0m, in \u001b[0;36mFigureCanvasWebAggCore.send_event\u001b[0;34m(self, event_type, **kwargs)\u001b[0m\n\u001b[1;32m    391\u001b[0m \u001b[39mif\u001b[39;00m \u001b[39mself\u001b[39m\u001b[39m.\u001b[39mmanager:\n\u001b[0;32m--> 392\u001b[0m     \u001b[39mself\u001b[39;49m\u001b[39m.\u001b[39;49mmanager\u001b[39m.\u001b[39;49m_send_event(event_type, \u001b[39m*\u001b[39;49m\u001b[39m*\u001b[39;49mkwargs)\n",
      "File \u001b[0;32m~/opt/anaconda3/lib/python3.8/site-packages/matplotlib/backends/backend_webagg_core.py:541\u001b[0m, in \u001b[0;36mFigureManagerWebAgg._send_event\u001b[0;34m(self, event_type, **kwargs)\u001b[0m\n\u001b[1;32m    540\u001b[0m \u001b[39mfor\u001b[39;00m s \u001b[39min\u001b[39;00m \u001b[39mself\u001b[39m\u001b[39m.\u001b[39mweb_sockets:\n\u001b[0;32m--> 541\u001b[0m     s\u001b[39m.\u001b[39;49msend_json(payload)\n",
      "File \u001b[0;32m~/opt/anaconda3/lib/python3.8/site-packages/ipympl/backend_nbagg.py:221\u001b[0m, in \u001b[0;36mCanvas.send_json\u001b[0;34m(self, content)\u001b[0m\n\u001b[1;32m    220\u001b[0m \u001b[39mif\u001b[39;00m content[\u001b[39m'\u001b[39m\u001b[39mtype\u001b[39m\u001b[39m'\u001b[39m] \u001b[39m==\u001b[39m \u001b[39m'\u001b[39m\u001b[39mcursor\u001b[39m\u001b[39m'\u001b[39m:\n\u001b[0;32m--> 221\u001b[0m     \u001b[39mself\u001b[39m\u001b[39m.\u001b[39m_cursor \u001b[39m=\u001b[39m cursors_str[content[\u001b[39m'\u001b[39;49m\u001b[39mcursor\u001b[39;49m\u001b[39m'\u001b[39;49m]]\n\u001b[1;32m    223\u001b[0m \u001b[39melif\u001b[39;00m content[\u001b[39m'\u001b[39m\u001b[39mtype\u001b[39m\u001b[39m'\u001b[39m] \u001b[39m==\u001b[39m \u001b[39m'\u001b[39m\u001b[39mmessage\u001b[39m\u001b[39m'\u001b[39m:\n",
      "\u001b[0;31mKeyError\u001b[0m: 'wait'",
      "\nDuring handling of the above exception, another exception occurred:\n",
      "\u001b[0;31mKeyError\u001b[0m                                  Traceback (most recent call last)",
      "File \u001b[0;32m~/opt/anaconda3/lib/python3.8/site-packages/ipympl/backend_nbagg.py:216\u001b[0m, in \u001b[0;36mCanvas._handle_message\u001b[0;34m(self, object, content, buffers)\u001b[0m\n\u001b[1;32m    214\u001b[0m     \u001b[39mself\u001b[39m\u001b[39m.\u001b[39mmanager\u001b[39m.\u001b[39mresize(w, h)\n\u001b[1;32m    215\u001b[0m \u001b[39melse\u001b[39;00m:\n\u001b[0;32m--> 216\u001b[0m     \u001b[39mself\u001b[39;49m\u001b[39m.\u001b[39;49mmanager\u001b[39m.\u001b[39;49mhandle_json(content)\n",
      "File \u001b[0;32m~/opt/anaconda3/lib/python3.8/site-packages/matplotlib/backends/backend_webagg_core.py:492\u001b[0m, in \u001b[0;36mFigureManagerWebAgg.handle_json\u001b[0;34m(self, content)\u001b[0m\n\u001b[1;32m    491\u001b[0m \u001b[39mdef\u001b[39;00m \u001b[39mhandle_json\u001b[39m(\u001b[39mself\u001b[39m, content):\n\u001b[0;32m--> 492\u001b[0m     \u001b[39mself\u001b[39;49m\u001b[39m.\u001b[39;49mcanvas\u001b[39m.\u001b[39;49mhandle_event(content)\n",
      "File \u001b[0;32m~/opt/anaconda3/lib/python3.8/site-packages/matplotlib/backends/backend_webagg_core.py:287\u001b[0m, in \u001b[0;36mFigureCanvasWebAggCore.handle_event\u001b[0;34m(self, event)\u001b[0m\n\u001b[1;32m    284\u001b[0m e_type \u001b[39m=\u001b[39m event[\u001b[39m'\u001b[39m\u001b[39mtype\u001b[39m\u001b[39m'\u001b[39m]\n\u001b[1;32m    285\u001b[0m handler \u001b[39m=\u001b[39m \u001b[39mgetattr\u001b[39m(\u001b[39mself\u001b[39m, \u001b[39m'\u001b[39m\u001b[39mhandle_\u001b[39m\u001b[39m{0}\u001b[39;00m\u001b[39m'\u001b[39m\u001b[39m.\u001b[39mformat(e_type),\n\u001b[1;32m    286\u001b[0m                   \u001b[39mself\u001b[39m\u001b[39m.\u001b[39mhandle_unknown_event)\n\u001b[0;32m--> 287\u001b[0m \u001b[39mreturn\u001b[39;00m handler(event)\n",
      "File \u001b[0;32m~/opt/anaconda3/lib/python3.8/site-packages/matplotlib/backends/backend_webagg_core.py:303\u001b[0m, in \u001b[0;36mFigureCanvasWebAggCore.handle_draw\u001b[0;34m(self, event)\u001b[0m\n\u001b[1;32m    302\u001b[0m \u001b[39mdef\u001b[39;00m \u001b[39mhandle_draw\u001b[39m(\u001b[39mself\u001b[39m, event):\n\u001b[0;32m--> 303\u001b[0m     \u001b[39mself\u001b[39;49m\u001b[39m.\u001b[39;49mdraw()\n",
      "File \u001b[0;32m~/opt/anaconda3/lib/python3.8/site-packages/matplotlib/backends/backend_webagg_core.py:188\u001b[0m, in \u001b[0;36mFigureCanvasWebAggCore.draw\u001b[0;34m(self)\u001b[0m\n\u001b[1;32m    186\u001b[0m \u001b[39mself\u001b[39m\u001b[39m.\u001b[39m_png_is_old \u001b[39m=\u001b[39m \u001b[39mTrue\u001b[39;00m\n\u001b[1;32m    187\u001b[0m \u001b[39mtry\u001b[39;00m:\n\u001b[0;32m--> 188\u001b[0m     \u001b[39msuper\u001b[39;49m()\u001b[39m.\u001b[39;49mdraw()\n\u001b[1;32m    189\u001b[0m \u001b[39mfinally\u001b[39;00m:\n\u001b[1;32m    190\u001b[0m     \u001b[39mself\u001b[39m\u001b[39m.\u001b[39mmanager\u001b[39m.\u001b[39mrefresh_all()\n",
      "File \u001b[0;32m~/opt/anaconda3/lib/python3.8/site-packages/matplotlib/backends/backend_agg.py:433\u001b[0m, in \u001b[0;36mFigureCanvasAgg.draw\u001b[0;34m(self)\u001b[0m\n\u001b[1;32m    431\u001b[0m \u001b[39mself\u001b[39m\u001b[39m.\u001b[39mrenderer \u001b[39m=\u001b[39m \u001b[39mself\u001b[39m\u001b[39m.\u001b[39mget_renderer(cleared\u001b[39m=\u001b[39m\u001b[39mTrue\u001b[39;00m)\n\u001b[1;32m    432\u001b[0m \u001b[39m# Acquire a lock on the shared font cache.\u001b[39;00m\n\u001b[0;32m--> 433\u001b[0m \u001b[39mwith\u001b[39;00m RendererAgg\u001b[39m.\u001b[39mlock, \\\n\u001b[1;32m    434\u001b[0m      (\u001b[39mself\u001b[39m\u001b[39m.\u001b[39mtoolbar\u001b[39m.\u001b[39m_wait_cursor_for_draw_cm() \u001b[39mif\u001b[39;00m \u001b[39mself\u001b[39m\u001b[39m.\u001b[39mtoolbar\n\u001b[1;32m    435\u001b[0m       \u001b[39melse\u001b[39;00m nullcontext()):\n\u001b[1;32m    436\u001b[0m     \u001b[39mself\u001b[39m\u001b[39m.\u001b[39mfigure\u001b[39m.\u001b[39mdraw(\u001b[39mself\u001b[39m\u001b[39m.\u001b[39mrenderer)\n\u001b[1;32m    437\u001b[0m     \u001b[39m# A GUI class may be need to update a window using this draw, so\u001b[39;00m\n\u001b[1;32m    438\u001b[0m     \u001b[39m# don't forget to call the superclass.\u001b[39;00m\n",
      "File \u001b[0;32m~/opt/anaconda3/lib/python3.8/contextlib.py:113\u001b[0m, in \u001b[0;36m_GeneratorContextManager.__enter__\u001b[0;34m(self)\u001b[0m\n\u001b[1;32m    111\u001b[0m \u001b[39mdel\u001b[39;00m \u001b[39mself\u001b[39m\u001b[39m.\u001b[39margs, \u001b[39mself\u001b[39m\u001b[39m.\u001b[39mkwds, \u001b[39mself\u001b[39m\u001b[39m.\u001b[39mfunc\n\u001b[1;32m    112\u001b[0m \u001b[39mtry\u001b[39;00m:\n\u001b[0;32m--> 113\u001b[0m     \u001b[39mreturn\u001b[39;00m \u001b[39mnext\u001b[39;49m(\u001b[39mself\u001b[39;49m\u001b[39m.\u001b[39;49mgen)\n\u001b[1;32m    114\u001b[0m \u001b[39mexcept\u001b[39;00m \u001b[39mStopIteration\u001b[39;00m:\n\u001b[1;32m    115\u001b[0m     \u001b[39mraise\u001b[39;00m \u001b[39mRuntimeError\u001b[39;00m(\u001b[39m\"\u001b[39m\u001b[39mgenerator didn\u001b[39m\u001b[39m'\u001b[39m\u001b[39mt yield\u001b[39m\u001b[39m\"\u001b[39m) \u001b[39mfrom\u001b[39;00m \u001b[39mNone\u001b[39m\n",
      "File \u001b[0;32m~/opt/anaconda3/lib/python3.8/site-packages/matplotlib/backend_bases.py:3033\u001b[0m, in \u001b[0;36mNavigationToolbar2._wait_cursor_for_draw_cm\u001b[0;34m(self)\u001b[0m\n\u001b[1;32m   3031\u001b[0m         \u001b[39myield\u001b[39;00m\n\u001b[1;32m   3032\u001b[0m     \u001b[39mfinally\u001b[39;00m:\n\u001b[0;32m-> 3033\u001b[0m         \u001b[39mself\u001b[39;49m\u001b[39m.\u001b[39;49mcanvas\u001b[39m.\u001b[39;49mset_cursor(\u001b[39mself\u001b[39;49m\u001b[39m.\u001b[39;49m_lastCursor)\n\u001b[1;32m   3034\u001b[0m \u001b[39melse\u001b[39;00m:\n\u001b[1;32m   3035\u001b[0m     \u001b[39myield\u001b[39;00m\n",
      "File \u001b[0;32m~/opt/anaconda3/lib/python3.8/site-packages/matplotlib/backends/backend_webagg_core.py:210\u001b[0m, in \u001b[0;36mFigureCanvasWebAggCore.set_cursor\u001b[0;34m(self, cursor)\u001b[0m\n\u001b[1;32m    199\u001b[0m \u001b[39mdef\u001b[39;00m \u001b[39mset_cursor\u001b[39m(\u001b[39mself\u001b[39m, cursor):\n\u001b[1;32m    200\u001b[0m     \u001b[39m# docstring inherited\u001b[39;00m\n\u001b[1;32m    201\u001b[0m     cursor \u001b[39m=\u001b[39m _api\u001b[39m.\u001b[39mcheck_getitem({\n\u001b[1;32m    202\u001b[0m         backend_tools\u001b[39m.\u001b[39mCursors\u001b[39m.\u001b[39mHAND: \u001b[39m'\u001b[39m\u001b[39mpointer\u001b[39m\u001b[39m'\u001b[39m,\n\u001b[1;32m    203\u001b[0m         backend_tools\u001b[39m.\u001b[39mCursors\u001b[39m.\u001b[39mPOINTER: \u001b[39m'\u001b[39m\u001b[39mdefault\u001b[39m\u001b[39m'\u001b[39m,\n\u001b[0;32m   (...)\u001b[0m\n\u001b[1;32m    208\u001b[0m         backend_tools\u001b[39m.\u001b[39mCursors\u001b[39m.\u001b[39mRESIZE_VERTICAL: \u001b[39m'\u001b[39m\u001b[39mns-resize\u001b[39m\u001b[39m'\u001b[39m,\n\u001b[1;32m    209\u001b[0m     }, cursor\u001b[39m=\u001b[39mcursor)\n\u001b[0;32m--> 210\u001b[0m     \u001b[39mself\u001b[39;49m\u001b[39m.\u001b[39;49msend_event(\u001b[39m'\u001b[39;49m\u001b[39mcursor\u001b[39;49m\u001b[39m'\u001b[39;49m, cursor\u001b[39m=\u001b[39;49mcursor)\n",
      "File \u001b[0;32m~/opt/anaconda3/lib/python3.8/site-packages/matplotlib/backends/backend_webagg_core.py:392\u001b[0m, in \u001b[0;36mFigureCanvasWebAggCore.send_event\u001b[0;34m(self, event_type, **kwargs)\u001b[0m\n\u001b[1;32m    390\u001b[0m \u001b[39mdef\u001b[39;00m \u001b[39msend_event\u001b[39m(\u001b[39mself\u001b[39m, event_type, \u001b[39m*\u001b[39m\u001b[39m*\u001b[39mkwargs):\n\u001b[1;32m    391\u001b[0m     \u001b[39mif\u001b[39;00m \u001b[39mself\u001b[39m\u001b[39m.\u001b[39mmanager:\n\u001b[0;32m--> 392\u001b[0m         \u001b[39mself\u001b[39;49m\u001b[39m.\u001b[39;49mmanager\u001b[39m.\u001b[39;49m_send_event(event_type, \u001b[39m*\u001b[39;49m\u001b[39m*\u001b[39;49mkwargs)\n",
      "File \u001b[0;32m~/opt/anaconda3/lib/python3.8/site-packages/matplotlib/backends/backend_webagg_core.py:541\u001b[0m, in \u001b[0;36mFigureManagerWebAgg._send_event\u001b[0;34m(self, event_type, **kwargs)\u001b[0m\n\u001b[1;32m    539\u001b[0m payload \u001b[39m=\u001b[39m {\u001b[39m'\u001b[39m\u001b[39mtype\u001b[39m\u001b[39m'\u001b[39m: event_type, \u001b[39m*\u001b[39m\u001b[39m*\u001b[39mkwargs}\n\u001b[1;32m    540\u001b[0m \u001b[39mfor\u001b[39;00m s \u001b[39min\u001b[39;00m \u001b[39mself\u001b[39m\u001b[39m.\u001b[39mweb_sockets:\n\u001b[0;32m--> 541\u001b[0m     s\u001b[39m.\u001b[39;49msend_json(payload)\n",
      "File \u001b[0;32m~/opt/anaconda3/lib/python3.8/site-packages/ipympl/backend_nbagg.py:221\u001b[0m, in \u001b[0;36mCanvas.send_json\u001b[0;34m(self, content)\u001b[0m\n\u001b[1;32m    218\u001b[0m \u001b[39mdef\u001b[39;00m \u001b[39msend_json\u001b[39m(\u001b[39mself\u001b[39m, content):\n\u001b[1;32m    219\u001b[0m     \u001b[39m# Change in the widget state?\u001b[39;00m\n\u001b[1;32m    220\u001b[0m     \u001b[39mif\u001b[39;00m content[\u001b[39m'\u001b[39m\u001b[39mtype\u001b[39m\u001b[39m'\u001b[39m] \u001b[39m==\u001b[39m \u001b[39m'\u001b[39m\u001b[39mcursor\u001b[39m\u001b[39m'\u001b[39m:\n\u001b[0;32m--> 221\u001b[0m         \u001b[39mself\u001b[39m\u001b[39m.\u001b[39m_cursor \u001b[39m=\u001b[39m cursors_str[content[\u001b[39m'\u001b[39;49m\u001b[39mcursor\u001b[39;49m\u001b[39m'\u001b[39;49m]]\n\u001b[1;32m    223\u001b[0m     \u001b[39melif\u001b[39;00m content[\u001b[39m'\u001b[39m\u001b[39mtype\u001b[39m\u001b[39m'\u001b[39m] \u001b[39m==\u001b[39m \u001b[39m'\u001b[39m\u001b[39mmessage\u001b[39m\u001b[39m'\u001b[39m:\n\u001b[1;32m    224\u001b[0m         \u001b[39mself\u001b[39m\u001b[39m.\u001b[39m_message \u001b[39m=\u001b[39m content[\u001b[39m'\u001b[39m\u001b[39mmessage\u001b[39m\u001b[39m'\u001b[39m]\n",
      "\u001b[0;31mKeyError\u001b[0m: 'default'"
     ]
    }
   ],
   "source": [
    "%matplotlib widget      \n",
    "fig, ax = plt.subplots()\n",
    "ax.set_title('test title')\n",
    "libwwz.plot_methods.linear_plotter(ax,Tau,Freq,WWZ)\n",
    "plt.show()"
   ]
  },
  {
   "cell_type": "code",
   "execution_count": 1,
   "metadata": {},
   "outputs": [],
   "source": [
    "path='/Users/baotong/Desktop/CDFS/'\n",
    "file1='145108.76+270926.9_lccorr_1000_soft.fits'\n",
    "file2='145108.76+270926.9_lccorr_1000_soft_2nd.fits'"
   ]
  },
  {
   "cell_type": "code",
   "execution_count": null,
   "metadata": {},
   "outputs": [],
   "source": [
    "fits.open(path+file1)[1].data"
   ]
  },
  {
   "cell_type": "code",
   "execution_count": null,
   "metadata": {},
   "outputs": [],
   "source": []
  },
  {
   "cell_type": "code",
   "execution_count": null,
   "metadata": {},
   "outputs": [],
   "source": []
  },
  {
   "cell_type": "code",
   "execution_count": null,
   "metadata": {},
   "outputs": [],
   "source": []
  }
 ],
 "metadata": {
  "kernelspec": {
   "display_name": "Python 3 (ipykernel)",
   "language": "python",
   "name": "python3"
  },
  "language_info": {
   "codemirror_mode": {
    "name": "ipython",
    "version": 3
   },
   "file_extension": ".py",
   "mimetype": "text/x-python",
   "name": "python",
   "nbconvert_exporter": "python",
   "pygments_lexer": "ipython3",
   "version": "3.8.5"
  }
 },
 "nbformat": 4,
 "nbformat_minor": 4
}
