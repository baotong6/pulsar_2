{
 "cells": [
  {
   "cell_type": "code",
   "execution_count": 1,
   "metadata": {},
   "outputs": [],
   "source": [
    "import warnings\n",
    "warnings.filterwarnings('ignore')"
   ]
  },
  {
   "cell_type": "code",
   "execution_count": 2,
   "metadata": {},
   "outputs": [],
   "source": [
    "import numpy as np\n",
    "import matplotlib.pyplot as plt\n",
    "from astropy.io import fits\n",
    "import pandas as pd\n",
    "import sys\n",
    "import os\n",
    "from scipy import interpolate\n",
    "from astropy import units as u\n",
    "from astropy.coordinates import SkyCoord\n",
    "from astropy.io import fits\n",
    "from scipy.optimize import curve_fit\n",
    "import astropy.units as u\n",
    "import astropy.constants as c"
   ]
  },
  {
   "cell_type": "code",
   "execution_count": 3,
   "metadata": {},
   "outputs": [],
   "source": [
    "import libwwz"
   ]
  },
  {
   "cell_type": "code",
   "execution_count": 4,
   "metadata": {},
   "outputs": [],
   "source": [
    "from astropy.timeseries import LombScargle"
   ]
  },
  {
   "cell_type": "code",
   "execution_count": 5,
   "metadata": {},
   "outputs": [],
   "source": [
    "import stingray as sr\n",
    "from stingray.events import EventList\n",
    "from stingray.lightcurve import Lightcurve\n",
    "from stingray import Lightcurve, Crossspectrum, sampledata,Powerspectrum,AveragedPowerspectrum\n",
    "from stingray.simulator import simulator, models"
   ]
  },
  {
   "cell_type": "code",
   "execution_count": 5,
   "metadata": {},
   "outputs": [
    {
     "name": "stdout",
     "output_type": "stream",
     "text": [
      "Help on package libwwz:\n",
      "\n",
      "NAME\n",
      "    libwwz - Exposes the wwt function directly without import the wwz module.\n",
      "\n",
      "PACKAGE CONTENTS\n",
      "    plot_methods\n",
      "    wwz\n",
      "\n",
      "FILE\n",
      "    /Users/baotong/opt/anaconda3/lib/python3.8/site-packages/libwwz/__init__.py\n",
      "\n",
      "\n"
     ]
    }
   ],
   "source": [
    "help(libwwz)"
   ]
  },
  {
   "cell_type": "code",
   "execution_count": 18,
   "metadata": {},
   "outputs": [],
   "source": [
    "def get_hist(t, len_bin):\n",
    "    ###将输入的time信息，按照len_bin的长度输出为lc\n",
    "    t_test = t-t[0]\n",
    "    a = [0 for i in range(int(t_test[-1] / len_bin) + 1)]\n",
    "    for i in range(len(t_test)):\n",
    "        a[int(t_test[i] / len_bin)] += 1\n",
    "    a = np.array(a)\n",
    "    return a"
   ]
  },
  {
   "cell_type": "code",
   "execution_count": 47,
   "metadata": {},
   "outputs": [],
   "source": [
    "dt = 2  # seconds\n",
    "long_dt = 2  # seconds\n",
    "long_exposure = 160.  # seconds\n",
    "long_times = np.arange(0, long_exposure, long_dt)  # seconds\n",
    "# In count rate units here\n",
    "long_signal = 100 * np.sin(2.*np.pi*long_times/10) + 1000\n",
    "\n",
    "# Multiply by dt to get count units, then add Poisson noise\n",
    "long_noisy = np.random.poisson(long_signal*long_dt)"
   ]
  },
  {
   "cell_type": "code",
   "execution_count": 48,
   "metadata": {},
   "outputs": [
    {
     "name": "stderr",
     "output_type": "stream",
     "text": [
      "WARNING:root:Checking if light curve is well behaved. This can take time, so if you are sure it is already sorted, specify skip_checks=True at light curve creation.\n",
      "WARNING:root:Checking if light curve is sorted.\n",
      "WARNING:root:Computing the bin time ``dt``. This can take time. If you know the bin time, please specify it at light curve creation\n"
     ]
    }
   ],
   "source": [
    "long_lc = Lightcurve(long_times, long_noisy)"
   ]
  },
  {
   "cell_type": "code",
   "execution_count": 49,
   "metadata": {},
   "outputs": [
    {
     "name": "stdout",
     "output_type": "stream",
     "text": [
      "Help on function wwt in module libwwz.wwz:\n",
      "\n",
      "wwt(timestamps: numpy.ndarray, magnitudes: numpy.ndarray, time_divisions: int, freq_params: list, decay_constant: float, method: str = 'linear', parallel: bool = True) -> numpy.ndarray\n",
      "    The code is based on G. Foster's FORTRAN\n",
      "    code as well as eaydin's python 2.7 code. The code is updated to use numpy methods and allow for float value tau.\n",
      "    It returns an array with matrix of new evenly spaced timestamps, frequencies, wwz-power, amplitude, coefficients,\n",
      "    and effective number. Specific equations can be found on Grant Foster's \"WAVELETS FOR PERIOD ANALYSIS OF UNEVENLY\n",
      "    SAMPLED TIME SERIES\". Some of the equations are labeled in the code with corresponding numbers.\n",
      "    \n",
      "    :param timestamps: An array with corresponding times for the magnitude (payload).\n",
      "    :param magnitudes: An array with payload values\n",
      "    :param time_divisions: number of divisions for the new timestamps\n",
      "    :param freq_params: A list containing parameters for making frequency bands to analyze over with given 'method'\n",
      "            'linear' -> [freq_low, freq_high, freq_step, override]\n",
      "            'octave' -> [freq_tg, freq_low, freq_high, band_order, log_scale_base, override]\n",
      "    :param decay_constant: decay constant for the Morlet wavelet (should be <0.02) eq. 1-2\n",
      "            c = 1/(2w), the wavelet decays significantly after a single cycle of 2 * pi / w\n",
      "    :param method: determines method of creating freq ('linear', 'octave') default 'linear'\n",
      "    :param parallel: boolean indicate to use parallel processing or not\n",
      "    :return: Tau, Freq, WWZ, AMP, COEF, NEFF in a numpy array\n",
      "\n"
     ]
    }
   ],
   "source": [
    "help(libwwz.wwt)"
   ]
  },
  {
   "cell_type": "code",
   "execution_count": 50,
   "metadata": {},
   "outputs": [],
   "source": [
    "freq=np.arange(1/100.,1./5,1e-2)"
   ]
  },
  {
   "cell_type": "code",
   "execution_count": 59,
   "metadata": {},
   "outputs": [],
   "source": [
    "def generalized_lorentzian(x, p):\n",
    "    \"\"\"\n",
    "    Generalized Lorentzian function.\n",
    "\n",
    "    Parameters\n",
    "    ----------\n",
    "\n",
    "    x: numpy.ndarray\n",
    "        non-zero frequencies\n",
    "\n",
    "    p: iterable\n",
    "        p[0] = peak centeral frequency\n",
    "        p[1] = FWHM of the peak (gamma)\n",
    "        p[2] = peak value at x=x0\n",
    "        p[3] = power coefficient [n]\n",
    "\n",
    "    Returns\n",
    "    -------\n",
    "    model: numpy.ndarray\n",
    "        generalized lorentzian psd model\n",
    "    \"\"\"\n",
    "\n",
    "    assert p[3] > 0., \"The power coefficient should be greater than zero.\"\n",
    "    return p[2] * (p[1] / 2)**p[3] * 1./(abs(x - p[0])**p[3] + (p[1] / 2)**p[3])\n",
    "def smoothbknpo(x, p):\n",
    "    \"\"\"\n",
    "    Smooth broken power law function.\n",
    "\n",
    "    Parameters\n",
    "    ----------\n",
    "\n",
    "    x: numpy.ndarray\n",
    "        non-zero frequencies\n",
    "\n",
    "    p: iterable\n",
    "        p[0] = normalization frequency\n",
    "        p[1] = power law index for f --> zero\n",
    "        p[2] = power law index for f --> infinity\n",
    "        p[3] = break frequency\n",
    "\n",
    "    Returns\n",
    "    -------\n",
    "    model: numpy.ndarray\n",
    "        generalized smooth broken power law psd model\n",
    "    \"\"\"\n",
    "\n",
    "    return p[0] * x**(-p[1]) / (1. + (x / p[3])**2)**(-(p[1] - p[2]) / 2)"
   ]
  },
  {
   "cell_type": "code",
   "execution_count": 70,
   "metadata": {},
   "outputs": [],
   "source": [
    "def sim_evtlist(lc):\n",
    "    num_evt_bin=np.random.poisson(lc.counts)\n",
    "    evt_all=[]\n",
    "    i=0\n",
    "    while i < len(num_evt_bin):\n",
    "        evt_all=np.concatenate((evt_all,(np.random.uniform(lc.time[i]-lc.dt/2,lc.time[i]+lc.dt/2,num_evt_bin[i]))))\n",
    "        i+=1\n",
    "    return evt_all"
   ]
  },
  {
   "cell_type": "code",
   "execution_count": 108,
   "metadata": {},
   "outputs": [
    {
     "name": "stderr",
     "output_type": "stream",
     "text": [
      "WARNING:root:Checking if light curve is well behaved. This can take time, so if you are sure it is already sorted, specify skip_checks=True at light curve creation.\n",
      "WARNING:root:Checking if light curve is sorted.\n"
     ]
    },
    {
     "name": "stdout",
     "output_type": "stream",
     "text": [
      "20228\n",
      "965\n"
     ]
    },
    {
     "name": "stderr",
     "output_type": "stream",
     "text": [
      "/Users/baotong/opt/anaconda3/lib/python3.8/site-packages/stingray/utils.py:118: UserWarning: SIMON says: Stingray only uses poisson err_dist at the moment. All analysis in the light curve will assume Poisson errors. Sorry for the inconvenience.\n",
      "  warnings.warn(\"SIMON says: {0}\".format(message), **kwargs)\n"
     ]
    }
   ],
   "source": [
    "exptime=100000\n",
    "tstart=12213.\n",
    "dt = 50\n",
    "cts_rate = 1e-1 * dt  # 实际的cts-rate应为这个的2倍\n",
    "num_bins = int(exptime / dt)\n",
    "sim = simulator.Simulator(N=num_bins, mean=cts_rate, dt=dt)\n",
    "w = np.arange(1 / exptime, 0.5 / dt, 1 / exptime)\n",
    "# w = np.fft.rfftfreq(sim.N, d=sim.dt)[1:]\n",
    "# spectrum=generalized_lorentzian(w,[1/500.,1/4000.,100,2])\n",
    "spectrum = smoothbknpo(w, [cts_rate*dt, 0.2, 1, 1e-4])  + generalized_lorentzian(w, [1 / 1000., 1 / 4000., cts_rate*dt*10, 2])\n",
    "lc = sim.simulate(spectrum)\n",
    "lc.counts += cts_rate\n",
    "lc.counts[np.where(lc.counts < 0)] = 0\n",
    "T_exp =  exptime\n",
    "\n",
    "ev = EventList()\n",
    "# ev.simulate_times(use_spline=False,lc=lc,bin_time=dt)\n",
    "ev.time=sim_evtlist(lc)+tstart\n",
    "print(len(ev.time))\n",
    "# print(2*cts_rate*num_bin\n",
    "# ev_all=ev_all.join(ev)        \n",
    "lc_new = ev.to_lc(dt=dt, tstart=ev.time[0]-0.5*dt, tseg=ev.time[-1]-ev.time[0])\n",
    "# plt.figure(2)\n",
    "# plt.plot(lc_new.time,lc_new.counts,c='r')\n",
    "# plt.show()\n",
    "# plt.figure(3)\n",
    "T_exp=lc_new.time[-1]-lc_new.time[0]\n",
    "freq=np.arange(1/T_exp,0.5/dt,1/T_exp)\n",
    "freq=freq[np.where(freq > 1 / 3000.)]\n",
    "\n",
    "print(len(freq))"
   ]
  },
  {
   "cell_type": "code",
   "execution_count": null,
   "metadata": {},
   "outputs": [],
   "source": []
  },
  {
   "cell_type": "code",
   "execution_count": 109,
   "metadata": {},
   "outputs": [
    {
     "name": "stdout",
     "output_type": "stream",
     "text": [
      "*** Starting Weighted Wavelet Z-transform ***\n",
      "\n",
      "Pseudo sample frequency (median) is  0.02\n",
      "largest tau window is  99.95\n",
      "565.42 seconds has passed to complete Weighted Wavelet Z-transform \n",
      "\n"
     ]
    }
   ],
   "source": [
    "[Tau, Freq, WWZ, AMP, COEF, NEFF]=libwwz.wwt(lc_new.time,lc_new.counts,time_divisions=1000,freq_params=[freq[0],freq[-1],freq[-1]-freq[-2],False],decay_constant=1e-3)"
   ]
  },
  {
   "cell_type": "code",
   "execution_count": 19,
   "metadata": {},
   "outputs": [],
   "source": [
    "bin_len=100.\n",
    "path='/Users/baotong/Desktop/CDFS/txt_all_obs_0.5_8_ep3/'\n",
    "filename='127.txt'\n",
    "time=np.loadtxt(path+filename)[:,0]\n",
    "T_exp = time[-1] - time[0]\n",
    "freq=np.arange(1/T_exp,0.5/bin_len,1/(5*T_exp))            \n",
    "flux=get_hist(time,bin_len)\n",
    "x=np.arange(bin_len/2.,(time[-1]-time[0])+bin_len/2.,bin_len)"
   ]
  },
  {
   "cell_type": "code",
   "execution_count": null,
   "metadata": {},
   "outputs": [
    {
     "name": "stdout",
     "output_type": "stream",
     "text": [
      "*** Starting Weighted Wavelet Z-transform ***\n",
      "\n",
      "Pseudo sample frequency (median) is  0.01\n",
      "largest tau window is  10989.489\n"
     ]
    }
   ],
   "source": [
    "[Tau, Freq, WWZ, AMP, COEF, NEFF]=libwwz.wwt(timestamps=x,magnitudes=flux,time_divisions=1000,freq_params=[freq[0],freq[-1],freq[-1]-freq[-2],False],decay_constant=1e-3)"
   ]
  },
  {
   "cell_type": "code",
   "execution_count": 110,
   "metadata": {},
   "outputs": [
    {
     "data": {
      "application/vnd.jupyter.widget-view+json": {
       "model_id": "c76a9ce11466489aaa367e4c689bdc74",
       "version_major": 2,
       "version_minor": 0
      },
      "text/plain": [
       "Canvas(toolbar=Toolbar(toolitems=[('Home', 'Reset original view', 'home', 'home'), ('Back', 'Back to previous …"
      ]
     },
     "metadata": {},
     "output_type": "display_data"
    }
   ],
   "source": [
    "%matplotlib widget      \n",
    "fig, ax = plt.subplots()\n",
    "ax.set_title('test title')\n",
    "libwwz.plot_methods.linear_plotter(ax,Tau,Freq,WWZ)\n",
    "plt.show()"
   ]
  },
  {
   "cell_type": "code",
   "execution_count": 1,
   "metadata": {},
   "outputs": [],
   "source": [
    "path='/Users/baotong/Desktop/CDFS/'\n",
    "file1='145108.76+270926.9_lccorr_1000_soft.fits'\n",
    "file2='145108.76+270926.9_lccorr_1000_soft_2nd.fits'"
   ]
  },
  {
   "cell_type": "code",
   "execution_count": null,
   "metadata": {},
   "outputs": [],
   "source": [
    "fits.open(path+file1)[1].data"
   ]
  },
  {
   "cell_type": "code",
   "execution_count": null,
   "metadata": {},
   "outputs": [],
   "source": []
  },
  {
   "cell_type": "code",
   "execution_count": null,
   "metadata": {},
   "outputs": [],
   "source": []
  },
  {
   "cell_type": "code",
   "execution_count": null,
   "metadata": {},
   "outputs": [],
   "source": []
  }
 ],
 "metadata": {
  "kernelspec": {
   "display_name": "Python [conda env:root]",
   "language": "python",
   "name": "conda-root-py"
  },
  "language_info": {
   "codemirror_mode": {
    "name": "ipython",
    "version": 3
   },
   "file_extension": ".py",
   "mimetype": "text/x-python",
   "name": "python",
   "nbconvert_exporter": "python",
   "pygments_lexer": "ipython3",
   "version": "3.8.5"
  }
 },
 "nbformat": 4,
 "nbformat_minor": 4
}
