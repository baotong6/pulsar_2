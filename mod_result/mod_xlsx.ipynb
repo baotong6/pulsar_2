{
 "cells": [
  {
   "cell_type": "code",
   "execution_count": 1,
   "metadata": {},
   "outputs": [],
   "source": [
    "import numpy as np\n",
    "import matplotlib.pyplot as plt\n",
    "from astropy.io import fits\n",
    "import pandas as pd\n",
    "import sys\n",
    "import os\n",
    "from scipy import interpolate\n",
    "from astropy import units as u\n",
    "from astropy.coordinates import SkyCoord\n",
    "from astropy.io import fits"
   ]
  },
  {
   "cell_type": "code",
   "execution_count": 2,
   "metadata": {},
   "outputs": [],
   "source": [
    "path=\"/Users/baotong/Desktop/period_Tuc/\"\n",
    "type=['47Tuc','terzan5','M28','omg_cen']"
   ]
  },
  {
   "cell_type": "code",
   "execution_count": 4,
   "metadata": {},
   "outputs": [],
   "source": [
    "def add_pos_for_excel(label):\n",
    "    if label=='omg_cen':dir=label[0:-4]\n",
    "    else: dir=label\n",
    "    res=pd.read_excel(path+'result_0.5_8_all.xlsx',label)\n",
    "    #srclis=fits.open('/Users/baotong/Desktop/period_{0}/{1}_p50_i5_src_1_2_4_8.fits'.format(dir,label))\n",
    "    srclis=fits.open('/Users/baotong/Desktop/period_Tuc/xray_properties-592.fits'.format(dir))\n",
    "    #for 47Tuc\n",
    "    ra=srclis[1].data['RAdeg']\n",
    "    dec=srclis[1].data['DEdeg']\n",
    "    seq=np.linspace(1,len(ra),len(ra))\n",
    "    seq=seq.astype(np.int)\n",
    "    result_out=np.column_stack((ra[res['seq']-1],dec[res['seq']-1]))\n",
    "    print(result_out)\n",
    "    np.savetxt(path+'radec_{0}.txt'.format(label),result_out,fmt=\"%10.5f %10.5f\")"
   ]
  },
  {
   "cell_type": "code",
   "execution_count": 5,
   "metadata": {},
   "outputs": [
    {
     "ename": "IndexError",
     "evalue": "index 245000 is out of bounds for axis 0 with size 592",
     "output_type": "error",
     "traceback": [
      "\u001b[0;31m---------------------------------------------------------------------------\u001b[0m",
      "\u001b[0;31mIndexError\u001b[0m                                Traceback (most recent call last)",
      "\u001b[0;32m<ipython-input-5-d1628cb56743>\u001b[0m in \u001b[0;36m<module>\u001b[0;34m\u001b[0m\n\u001b[0;32m----> 1\u001b[0;31m \u001b[0madd_pos_for_excel\u001b[0m\u001b[0;34m(\u001b[0m\u001b[0mtype\u001b[0m\u001b[0;34m[\u001b[0m\u001b[0;36m0\u001b[0m\u001b[0;34m]\u001b[0m\u001b[0;34m)\u001b[0m\u001b[0;34m\u001b[0m\u001b[0;34m\u001b[0m\u001b[0m\n\u001b[0m",
      "\u001b[0;32m<ipython-input-4-f9dd15117097>\u001b[0m in \u001b[0;36madd_pos_for_excel\u001b[0;34m(label)\u001b[0m\n\u001b[1;32m     10\u001b[0m     \u001b[0mseq\u001b[0m\u001b[0;34m=\u001b[0m\u001b[0mnp\u001b[0m\u001b[0;34m.\u001b[0m\u001b[0mlinspace\u001b[0m\u001b[0;34m(\u001b[0m\u001b[0;36m1\u001b[0m\u001b[0;34m,\u001b[0m\u001b[0mlen\u001b[0m\u001b[0;34m(\u001b[0m\u001b[0mra\u001b[0m\u001b[0;34m)\u001b[0m\u001b[0;34m,\u001b[0m\u001b[0mlen\u001b[0m\u001b[0;34m(\u001b[0m\u001b[0mra\u001b[0m\u001b[0;34m)\u001b[0m\u001b[0;34m)\u001b[0m\u001b[0;34m\u001b[0m\u001b[0;34m\u001b[0m\u001b[0m\n\u001b[1;32m     11\u001b[0m     \u001b[0mseq\u001b[0m\u001b[0;34m=\u001b[0m\u001b[0mseq\u001b[0m\u001b[0;34m.\u001b[0m\u001b[0mastype\u001b[0m\u001b[0;34m(\u001b[0m\u001b[0mnp\u001b[0m\u001b[0;34m.\u001b[0m\u001b[0mint\u001b[0m\u001b[0;34m)\u001b[0m\u001b[0;34m\u001b[0m\u001b[0;34m\u001b[0m\u001b[0m\n\u001b[0;32m---> 12\u001b[0;31m     \u001b[0mresult_out\u001b[0m\u001b[0;34m=\u001b[0m\u001b[0mnp\u001b[0m\u001b[0;34m.\u001b[0m\u001b[0mcolumn_stack\u001b[0m\u001b[0;34m(\u001b[0m\u001b[0;34m(\u001b[0m\u001b[0mra\u001b[0m\u001b[0;34m[\u001b[0m\u001b[0mres\u001b[0m\u001b[0;34m[\u001b[0m\u001b[0;34m'seq'\u001b[0m\u001b[0;34m]\u001b[0m\u001b[0;34m-\u001b[0m\u001b[0;36m1\u001b[0m\u001b[0;34m]\u001b[0m\u001b[0;34m,\u001b[0m\u001b[0mdec\u001b[0m\u001b[0;34m[\u001b[0m\u001b[0mres\u001b[0m\u001b[0;34m[\u001b[0m\u001b[0;34m'seq'\u001b[0m\u001b[0;34m]\u001b[0m\u001b[0;34m-\u001b[0m\u001b[0;36m1\u001b[0m\u001b[0;34m]\u001b[0m\u001b[0;34m)\u001b[0m\u001b[0;34m)\u001b[0m\u001b[0;34m\u001b[0m\u001b[0;34m\u001b[0m\u001b[0m\n\u001b[0m\u001b[1;32m     13\u001b[0m     \u001b[0mprint\u001b[0m\u001b[0;34m(\u001b[0m\u001b[0mresult_out\u001b[0m\u001b[0;34m)\u001b[0m\u001b[0;34m\u001b[0m\u001b[0;34m\u001b[0m\u001b[0m\n\u001b[1;32m     14\u001b[0m     \u001b[0mnp\u001b[0m\u001b[0;34m.\u001b[0m\u001b[0msavetxt\u001b[0m\u001b[0;34m(\u001b[0m\u001b[0mpath\u001b[0m\u001b[0;34m+\u001b[0m\u001b[0;34m'radec_{0}.txt'\u001b[0m\u001b[0;34m.\u001b[0m\u001b[0mformat\u001b[0m\u001b[0;34m(\u001b[0m\u001b[0mlabel\u001b[0m\u001b[0;34m)\u001b[0m\u001b[0;34m,\u001b[0m\u001b[0mresult_out\u001b[0m\u001b[0;34m,\u001b[0m\u001b[0mfmt\u001b[0m\u001b[0;34m=\u001b[0m\u001b[0;34m\"%10.5f %10.5f\"\u001b[0m\u001b[0;34m)\u001b[0m\u001b[0;34m\u001b[0m\u001b[0;34m\u001b[0m\u001b[0m\n",
      "\u001b[0;31mIndexError\u001b[0m: index 245000 is out of bounds for axis 0 with size 592"
     ]
    }
   ],
   "source": [
    "add_pos_for_excel(type[0])"
   ]
  },
  {
   "cell_type": "markdown",
   "metadata": {},
   "source": [
    "# 对已有的四个星团的变源src list做一个总region"
   ]
  },
  {
   "cell_type": "code",
   "execution_count": 8,
   "metadata": {},
   "outputs": [],
   "source": [
    "def make_region(label):\n",
    "    res=pd.read_excel(path+'result_0.5_8_all.xlsx',label)\n",
    "    os.system('rm {0}'.format(path)+'all_pCV_{0}.reg'.format(label))\n",
    "    with open(path+'all_pCV_{0}.reg'.format(label),'a+') as f2:\n",
    "        f2.writelines('fk5'+'\\n')\n",
    "        \n",
    "    ra=res['RA']\n",
    "    dec=res['DEC']\n",
    "    seq=res['seq']\n",
    "    for i in range(len(ra)):\n",
    "        with open(path+'all_pCV_{0}.reg'.format(label),'a+') as f2:\n",
    "            reg = 'circle(' + str(ra[i]) + ',' + str(dec[i]) + ',' + str('0.5\"') + ')'+\" # color=green width=2 text={\"+str(seq[i])+\"}\"\n",
    "            f2.writelines(reg+'\\n')"
   ]
  },
  {
   "cell_type": "code",
   "execution_count": 14,
   "metadata": {},
   "outputs": [],
   "source": [
    "make_region('NGC6397')"
   ]
  },
  {
   "cell_type": "markdown",
   "metadata": {},
   "source": [
    "## 对CDFS做一个总region"
   ]
  },
  {
   "cell_type": "code",
   "execution_count": 7,
   "metadata": {},
   "outputs": [],
   "source": [
    "def make_CDFS_region():\n",
    "    path='/Users/baotong/Desktop/CDFS/'\n",
    "    srclist=fits.open(path+'7Ms_catalog.fit')\n",
    "    ra=srclist[1].data['RAJ2000']\n",
    "    dec=srclist[1].data['DEJ2000']\n",
    "    seq=srclist[1].data['Seq']\n",
    "    os.system('rm {0}'.format(path+'all_pCV_CDFS.reg'))\n",
    "    with open(path+'all_pCV_CDFS.reg','a+') as f2:\n",
    "        f2.writelines('fk5'+'\\n')\n",
    "    for i in range(len(ra)):\n",
    "        with open(path+'all_pCV_CDFS.reg','a+') as f2:\n",
    "            reg = 'circle(' + str(ra[i]) + ',' + str(dec[i]) + ',' + str('2\"') + ')'+\" # color=green width=2 text={\"+str(seq[i])+\"}\"\n",
    "            f2.writelines(reg+'\\n')\n",
    "        \n",
    "make_CDFS_region()"
   ]
  },
  {
   "cell_type": "code",
   "execution_count": null,
   "metadata": {},
   "outputs": [],
   "source": []
  },
  {
   "cell_type": "code",
   "execution_count": null,
   "metadata": {},
   "outputs": [],
   "source": []
  },
  {
   "cell_type": "code",
   "execution_count": null,
   "metadata": {},
   "outputs": [],
   "source": []
  },
  {
   "cell_type": "code",
   "execution_count": 53,
   "metadata": {},
   "outputs": [],
   "source": [
    "make_region(type[2])"
   ]
  },
  {
   "cell_type": "markdown",
   "metadata": {},
   "source": [
    "# 看一下epoch里的观测时间如何，方便plot long-term 时选择x轴范围"
   ]
  },
  {
   "cell_type": "code",
   "execution_count": 7,
   "metadata": {},
   "outputs": [],
   "source": [
    "def print_MJD():\n",
    "    path='/Volumes/pulsar/M28/merge_data/spectra/aprates/'\n",
    "    EPOCH=np.loadtxt(path + 'M28_epoch.txt')\n",
    "    obs_time=(EPOCH[:, 0] + EPOCH[:, 1]) / 2\n",
    "    time = obs_time / 86400 + 2449352.5 - 2400000.5\n",
    "    print(time)"
   ]
  },
  {
   "cell_type": "code",
   "execution_count": 69,
   "metadata": {},
   "outputs": [
    {
     "name": "stdout",
     "output_type": "stream",
     "text": [
      "[50997.84195758 51029.08185127 51064.79907297 53224.71576898\n",
      " 53227.33056997 55710.30084491 55780.0307713  55871.85441829]\n"
     ]
    }
   ],
   "source": [
    "print_MJD()"
   ]
  },
  {
   "cell_type": "code",
   "execution_count": 27,
   "metadata": {},
   "outputs": [],
   "source": [
    "%matplotlib widget   \n",
    "def plot_profile_oneGC(k):\n",
    "    label_all=['47Tuc','terzan5','M28','omg_cen','NGC6397','NGC6752']\n",
    "    pos_all=[[6.0236250,-72.0812833,3.17*60,3.17/8.8*60],  #47Tuc\n",
    "             [267.0202083,-24.7790556,0.72*60,0.72/3.4*60],  #terzan5\n",
    "             [276.1363750,-24.8702972,1.97*60,1.97/8.2*60], # M28\n",
    "             [201.69700,-47.47947 , 5*60,5/2.1*60],         #omega_cen\n",
    "            [265.17539,-53.67433,2.9*60,2.9/58*60],        #NGC 6397\n",
    "             [287.71713,-59.98455,1.91,1.91/11.24*60]]      #NGC 6752\n",
    "    \n",
    "\n",
    "    label=label_all[k]\n",
    "    pos=pos_all[k]\n",
    "    res=pd.read_excel(path+'result_0.5_8_all.xlsx',label)\n",
    "    ra=np.array(res['RA'])\n",
    "    dec=np.array(res['DEC'])\n",
    "    seq=np.array(res['seq'])\n",
    "    period=np.array(res['P_out'])\n",
    "    i=0\n",
    "    while i<len(seq):\n",
    "        if period[i]<4500:\n",
    "        #if str(seq[i])[-3:]=='001':\n",
    "            ra=np.delete(ra,i)\n",
    "            dec=np.delete(dec, i)\n",
    "            seq=np.delete(seq, i)\n",
    "            period=np.delete(period, i)\n",
    "        else:i+=1\n",
    "    distance=((ra-pos[0])**2+(dec-pos[1])**2)**0.5*3600\n",
    "    print(distance)\n",
    "    frac=len(np.where((distance>pos[2])&(distance<pos[3]))[0])/len(distance)\n",
    "    print(frac)\n",
    "    plt.title(label_all[k])\n",
    "    plt.scatter(period,distance,marker='o')\n",
    "    plt.plot([0,50000],[pos[2],pos[2]],'--')\n",
    "    plt.plot([0,50000],[pos[3],pos[3]],'--')\n",
    "    plt.ylabel('Radius')\n",
    "    plt.xlabel('Period')\n",
    "    plt.loglog()\n",
    "    plt.show()"
   ]
  },
  {
   "cell_type": "code",
   "execution_count": 28,
   "metadata": {},
   "outputs": [
    {
     "name": "stdout",
     "output_type": "stream",
     "text": [
      "[686.8777016    3.71299469 110.60473315  10.8256256  477.80619516\n",
      " 110.60473315 682.82507798 516.34320255  10.8256256  237.97566098\n",
      " 912.49372162]\n",
      "0.0\n"
     ]
    },
    {
     "data": {
      "application/vnd.jupyter.widget-view+json": {
       "model_id": "b28a855ca85b4151901558d7f823846e",
       "version_major": 2,
       "version_minor": 0
      },
      "text/plain": [
       "Canvas(toolbar=Toolbar(toolitems=[('Home', 'Reset original view', 'home', 'home'), ('Back', 'Back to previous …"
      ]
     },
     "metadata": {},
     "output_type": "display_data"
    }
   ],
   "source": [
    "plot_profile_oneGC(4)"
   ]
  },
  {
   "cell_type": "code",
   "execution_count": 15,
   "metadata": {},
   "outputs": [],
   "source": [
    "%matplotlib widget\n",
    "def plot_profile_distb():\n",
    "    label_all=['47Tuc','terzan5','M28','omg_cen']\n",
    "    pos_all=[[6.0236250,-72.0812833,3.17*60,3.17/8.8*60],  #47Tuc\n",
    "             [267.0202083,-24.7790556,43.66,0.72*60,0.72/3.4*60],  #terzan5\n",
    "             [276.1363750,-24.8702972,1.97*60,1.97/8.2*60], # M28\n",
    "             [201.69700,-47.47947 , 5*60,5/2.1*60]]      #omega_cen\n",
    "    distance_all=[0]\n",
    "    period_all=[0]\n",
    "    for i in range(4):\n",
    "        label=label_all[i]\n",
    "        pos=pos_all[i]\n",
    "        res=pd.read_excel(path+'result_0.5_8_all.xlsx',label)\n",
    "        ra=np.array(res['RA'])\n",
    "        dec=np.array(res['DEC'])\n",
    "        seq=np.array(res['seq'])\n",
    "        period=np.array(res['P_out'])\n",
    "        i=0\n",
    "        while i<len(seq):\n",
    "            if period[i]<4500:\n",
    "            #if str(seq[i])[-3:]=='001':\n",
    "                ra=np.delete(ra,i)\n",
    "                dec=np.delete(dec, i)\n",
    "                seq=np.delete(seq, i)\n",
    "                period=np.delete(period, i)\n",
    "            else:i+=1\n",
    "        distance=((ra-pos[0])**2+(dec-pos[1])**2)**0.5*3600/pos[-1]\n",
    "        distance_all=np.concatenate((distance_all,distance))\n",
    "        period_all=np.concatenate((period_all,period))\n",
    "    distance_all=distance_all[1:]\n",
    "    period_all=period_all[1:]\n",
    "    # P_gap = [7740.0, 11448.0]\n",
    "    # plt.plot([0,10],[P_gap[0], P_gap[0]], '-', lw=2., color='grey')\n",
    "    # plt.plot([0,10],[P_gap[1], P_gap[1]], '-', lw=2., color='grey')\n",
    "    #print(distance)\n",
    "    period_plot=[]\n",
    "    num_density=[]\n",
    "    num_periodbin=[]\n",
    "    #plt.semilogy()\n",
    "    #plt.ylim(1e-4,1e2)\n",
    "    bins=np.linspace(0,10,9)\n",
    "    bins=np.linspace(0,12,11)\n",
    "    for i in range(len(bins)-1):\n",
    "        period_bin=period_all[np.where((distance_all<bins[i+1])&(distance_all>=bins[i]))]\n",
    "        num_density.append(len(period_bin)/(np.pi*(bins[i+1]**2-bins[i]**2)))\n",
    "        #print(len(period_bin),np.pi*(bins[i+1]**2-bins[i]**2))\n",
    "        period_acm=np.mean(period_bin)\n",
    "        period_plot.append(period_acm)\n",
    "        num_periodbin.append(len(period_bin))\n",
    "    x=bins[0:-1]+(bins[1]-bins[0])/2.\n",
    "    y=num_density\n",
    "    num_periodbin=np.array(num_periodbin)\n",
    "    func = interpolate.interp1d(x, y, kind='cubic')\n",
    "    x_new = np.linspace(min(x), max(x), 50)\n",
    "    y_new = func(x_new)\n",
    "    #plt.plot(x, y, color='red')\n",
    "    #plt.plot(x_new, y_new,color='green',linestyle='--')\n",
    "    #plt.scatter(x,period_plot,s=num_periodbin*20,marker='o',edgecolors='r')  # period_mean\n",
    "    plt.scatter(distance_all,period_all)  # all period\n",
    "    #plt.hist(period_all/distance_all,bins=50)\n",
    "    #plt.plot([pos[-1], pos[-1]], [1000,50000], '--')\n",
    "\n",
    "    plt.show()\n"
   ]
  },
  {
   "cell_type": "code",
   "execution_count": 16,
   "metadata": {},
   "outputs": [
    {
     "name": "stderr",
     "output_type": "stream",
     "text": [
      "/Users/baotong/opt/anaconda3/envs/astroconda/lib/python3.6/site-packages/numpy/core/fromnumeric.py:3373: RuntimeWarning: Mean of empty slice.\n",
      "  out=out, **kwargs)\n",
      "/Users/baotong/opt/anaconda3/envs/astroconda/lib/python3.6/site-packages/numpy/core/_methods.py:170: RuntimeWarning: invalid value encountered in double_scalars\n",
      "  ret = ret.dtype.type(ret / rcount)\n"
     ]
    },
    {
     "data": {
      "application/vnd.jupyter.widget-view+json": {
       "model_id": "d071921fb6844b2ea34f89d517bf97e6",
       "version_major": 2,
       "version_minor": 0
      },
      "text/plain": [
       "Canvas(toolbar=Toolbar(toolitems=[('Home', 'Reset original view', 'home', 'home'), ('Back', 'Back to previous …"
      ]
     },
     "metadata": {},
     "output_type": "display_data"
    }
   ],
   "source": [
    "plot_profile_distb()"
   ]
  },
  {
   "cell_type": "code",
   "execution_count": 3,
   "metadata": {},
   "outputs": [],
   "source": [
    "def unit_convert(ra_dec):\n",
    "    test = SkyCoord(ra_dec, unit = (u.deg,u.deg), frame='icrs', distance = 0.48837*u.AU)\n",
    "    print(test.to_string('hmsdms'))"
   ]
  },
  {
   "cell_type": "code",
   "execution_count": 4,
   "metadata": {},
   "outputs": [
    {
     "name": "stdout",
     "output_type": "stream",
     "text": [
      "00h24m04.272s -72d04m58.116s\n"
     ]
    }
   ],
   "source": [
    "unit_convert('6.0178 -72.08281')"
   ]
  },
  {
   "cell_type": "code",
   "execution_count": 1,
   "metadata": {},
   "outputs": [],
   "source": [
    "# help(SkyCoord)"
   ]
  },
  {
   "cell_type": "code",
   "execution_count": 2,
   "metadata": {},
   "outputs": [],
   "source": [
    "def make_region_GCCR():\n",
    "    path='/Users/baotong/Desktop/period/'\n",
    "    filename='/Users/baotong/Desktop/paper/NSC/GCCR_tab.txt'\n",
    "    info_GCCR=[]\n",
    "    with open(filename,'r') as file_to_read:\n",
    "        while True:\n",
    "            lines = file_to_read.readline() # 整行读取数据\n",
    "            info_GCCR.append(lines)\n",
    "            if not lines:\n",
    "                break\n",
    "                pass\n",
    "            \n",
    "    XSRC=np.array([1 ,4 ,14 ,15 ,31 ,32 ,35 ,36 ,37 ,38 ,41 ,47 ,49 ,50 ,56 ,57 ,\n",
    "          58 ,59 ,61 ,64 ,67 ,70 ,72 ,73 ,74 ,77 ,82 ,85 ,87 ,89 ,92 ,95,\n",
    "          96 ,97 ,98 ,99 ,100 ,101 ,103 ,106 ,107 ,110])\n",
    "    \n",
    "    info_GCCR=info_GCCR[0:-1]  ##去掉末尾空行\n",
    "    label=[];ra=[];dec=[];\n",
    "    for i in range(len(info_GCCR)):  \n",
    "        label_i,ra_i,dec_i=[str(i) for i in info_GCCR[i][0:-1].split(';')]   ##去掉末尾换行符\n",
    "        print(dec_i)\n",
    "        label.append(label_i);ra.append(ra_i);dec.append(dec_i)\n",
    "    with open(path+'all_GCCR.reg','a+') as f2:\n",
    "        f2.writelines('fk5'+'\\n')\n",
    "    for i in range(len(ra)):\n",
    "        with open(path+'all_GCCR.reg','a+') as f2:\n",
    "            if (i+1) in XSRC:\n",
    "                reg = 'circle(' + str(ra[i]) + ',' + str(dec[i]) + ',' + str('3\"') + ')'+\" # color=green width=2 text={\"+str(label[i][4:])+\"}\"\n",
    "                f2.writelines(reg+'\\n')\n",
    "            else:\n",
    "                reg = 'circle(' + str(ra[i]) + ',' + str(dec[i]) + ',' + str('3\"') + ')'+\" # color=green width=1 text={\"+str(label[i][-4:])+\"}\"\n",
    "                f2.writelines(reg+'\\n')\n",
    "    "
   ]
  },
  {
   "cell_type": "code",
   "execution_count": null,
   "metadata": {},
   "outputs": [],
   "source": [
    "# make_region_GCCR()"
   ]
  },
  {
   "cell_type": "code",
   "execution_count": null,
   "metadata": {},
   "outputs": [],
   "source": []
  }
 ],
 "metadata": {
  "kernelspec": {
   "display_name": "Python 3",
   "language": "python",
   "name": "python3"
  },
  "language_info": {
   "codemirror_mode": {
    "name": "ipython",
    "version": 3
   },
   "file_extension": ".py",
   "mimetype": "text/x-python",
   "name": "python",
   "nbconvert_exporter": "python",
   "pygments_lexer": "ipython3",
   "version": "3.6.12"
  }
 },
 "nbformat": 4,
 "nbformat_minor": 4
}
