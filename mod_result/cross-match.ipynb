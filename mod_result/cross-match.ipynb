{
 "cells": [
  {
   "cell_type": "code",
   "execution_count": 149,
   "metadata": {},
   "outputs": [],
   "source": [
    "import numpy as np\n",
    "import matplotlib.pyplot as plt\n",
    "from astropy.io import fits\n",
    "import sys\n",
    "import os\n",
    "import pylab as pl\n",
    "import string\n",
    "from datetime import datetime\n",
    "from scipy.interpolate import lagrange\n",
    "from scipy import interpolate\n",
    "from scipy.fftpack import fft,ifft\n",
    "import scipy.signal as ss\n",
    "import random\n",
    "import pandas as pd\n",
    "from astropy.coordinates import SkyCoord\n",
    "from astropy.coordinates import Angle\n",
    "import astropy.units as u\n",
    "import astropy.coordinates.matching as match_catalog"
   ]
  },
  {
   "cell_type": "markdown",
   "metadata": {},
   "source": [
    "# 选出银河系中心射电源的X-ray counterpart"
   ]
  },
  {
   "cell_type": "code",
   "execution_count": 2,
   "metadata": {},
   "outputs": [],
   "source": [
    "def getlen(a,b):\n",
    "    length=((a[0]-b[0])**2+(a[1]-b[1])**2)**0.5\n",
    "    return length"
   ]
  },
  {
   "cell_type": "markdown",
   "metadata": {},
   "source": [
    "## 将时分秒坐标转换为度坐标"
   ]
  },
  {
   "cell_type": "code",
   "execution_count": 193,
   "metadata": {},
   "outputs": [],
   "source": [
    "def unit_convert(ra,dec):\n",
    "    test = SkyCoord(ra,dec, unit = (u.hourangle,u.deg), frame='icrs')\n",
    "    return [test.ra.degree,test.dec.degree]"
   ]
  },
  {
   "cell_type": "code",
   "execution_count": 29,
   "metadata": {},
   "outputs": [
    {
     "name": "stdout",
     "output_type": "stream",
     "text": [
      "['266.429 -28.9971', '266.429 -28.9971']\n"
     ]
    }
   ],
   "source": [
    "# unit_convert(['17:45:43.036 -28:59:49.60','17:45:43.036 -28:59:49.60'])"
   ]
  },
  {
   "cell_type": "markdown",
   "metadata": {},
   "source": [
    "## 获取两个list的信息"
   ]
  },
  {
   "cell_type": "code",
   "execution_count": 194,
   "metadata": {},
   "outputs": [],
   "source": [
    "def get_input():\n",
    "    path='/Users/baotong/Desktop/period/'\n",
    "    GCCR_file='GCCR_tab.txt'\n",
    "    Xray_file='zhu18_3.fits'\n",
    "    info_GCCR=[]\n",
    "    ## GCCR的信息\n",
    "    with open(path+GCCR_file,'r') as file_to_read:\n",
    "        while True:\n",
    "            lines = file_to_read.readline() # 整行读取数据\n",
    "            info_GCCR.append(lines)\n",
    "            if not lines:\n",
    "                break\n",
    "                pass\n",
    "            \n",
    "    info_GCCR=info_GCCR[0:-1]  ##去掉末尾空行\n",
    "    label1=[];ra1=[];dec1=[];\n",
    "    for i in range(len(info_GCCR)):  \n",
    "        label_i,ra_i,dec_i=[str(i) for i in info_GCCR[i][0:-1].split(';')]   ##去掉末尾换行符\n",
    "        label1.append(label_i);ra1.append(ra_i);dec1.append(dec_i)\n",
    "    [ra1,dec1]=unit_convert(ra1,dec1)\n",
    "#     ra1=np.array(ra1).astype(float)\n",
    "#     dec1=np.array(dec1).astype(float)\n",
    "    \n",
    "    ## Zhu src的信息\n",
    "    srclist=fits.open(path+Xray_file)\n",
    "    label2=srclist[1].data['Seq']\n",
    "    ra2 = srclist[1].data['RAJ2000']\n",
    "    dec2= srclist[1].data['DEJ2000']\n",
    "    \n",
    "    ra_dec1=[ra1,dec1]\n",
    "    ra_dec2=[ra2,dec2]\n",
    "    return [ra_dec1,ra_dec2,label1,label2]\n",
    "    \n",
    "    "
   ]
  },
  {
   "cell_type": "code",
   "execution_count": 196,
   "metadata": {},
   "outputs": [],
   "source": [
    "# get_input()"
   ]
  },
  {
   "cell_type": "markdown",
   "metadata": {},
   "source": [
    "## "
   ]
  },
  {
   "cell_type": "code",
   "execution_count": 197,
   "metadata": {},
   "outputs": [],
   "source": [
    "def compare_counterpart(ra_dec1,ra_dec2,seq1,seq2):\n",
    "\n",
    "    offset=1\n",
    "    ##arcsec\n",
    "\n",
    "    match=[[] for i in range(len(seq1))]\n",
    "    for i in range(len(seq1)):\n",
    "        for j in range(len(seq2)):\n",
    "            dis=getlen([ra_dec2[0][j],ra_dec2[1][j]],[ra_dec1[0][i],ra_dec1[1][i]])*3600\n",
    "            if dis<offset:\n",
    "                match[i].append([seq1[i],seq2[j],dis])\n",
    "    print(np.sort(match))"
   ]
  },
  {
   "cell_type": "code",
   "execution_count": 198,
   "metadata": {},
   "outputs": [
    {
     "name": "stdout",
     "output_type": "stream",
     "text": [
      "<SkyCoord (ICRS): (ra, dec) in deg\n",
      "    [(266.26001, -28.99571), (266.26126, -29.02393),\n",
      "     (266.26188, -28.99004), ..., (266.56481, -28.97669),\n",
      "     (266.5689 , -28.97936), (266.57001, -28.99696)]>\n"
     ]
    }
   ],
   "source": [
    "input=get_input()\n",
    "Radio_catalog = SkyCoord(ra=input[0][0]*u.degree, dec=input[0][1]*u.degree)\n",
    "Xray_catalog = SkyCoord(ra=input[1][0]*u.degree, dec=input[1][1]*u.degree)\n",
    "print(Xray_catalog)"
   ]
  },
  {
   "cell_type": "code",
   "execution_count": 199,
   "metadata": {},
   "outputs": [],
   "source": [
    "id=match_catalog.match_coordinates_sky(Radio_catalog, Xray_catalog, nthneighbor=1)[0]+1\n",
    "offset=match_catalog.match_coordinates_sky(Radio_catalog, Xray_catalog, nthneighbor=1)[1]\n",
    "offset_arcsec=[]\n",
    "for i in range(len(offset)):\n",
    "    offset_arcsec.append(Angle(offset[i]).degree*3600)\n",
    "# temp=SkyCoord(offset[0], unit = (u.deg), frame='icrs').to_string('decimal')"
   ]
  },
  {
   "cell_type": "code",
   "execution_count": 200,
   "metadata": {},
   "outputs": [],
   "source": [
    "xray_counterpart=np.column_stack((id.astype(int),offset_arcsec))\n",
    "np.savetxt('/Users/baotong/Desktop/period/GCCR_xrayc.txt',xray_counterpart,fmt='%d %10.4f')"
   ]
  },
  {
   "cell_type": "code",
   "execution_count": null,
   "metadata": {},
   "outputs": [],
   "source": []
  }
 ],
 "metadata": {
  "kernelspec": {
   "display_name": "Python 3",
   "language": "python",
   "name": "python3"
  },
  "language_info": {
   "codemirror_mode": {
    "name": "ipython",
    "version": 3
   },
   "file_extension": ".py",
   "mimetype": "text/x-python",
   "name": "python",
   "nbconvert_exporter": "python",
   "pygments_lexer": "ipython3",
   "version": "3.6.12"
  }
 },
 "nbformat": 4,
 "nbformat_minor": 4
}
