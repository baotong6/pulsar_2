{
 "cells": [
  {
   "cell_type": "code",
   "execution_count": 15,
   "metadata": {},
   "outputs": [],
   "source": [
    "import numpy as np\n",
    "import matplotlib.pyplot as plt\n",
    "from astropy.io import fits\n",
    "import pandas as pd\n",
    "import sys\n",
    "import os\n",
    "from scipy import interpolate\n",
    "from astropy import units as u\n",
    "from astropy.coordinates import SkyCoord\n",
    "from astropy.io import fits\n",
    "from scipy.optimize import curve_fit\n",
    "import astropy.units as u\n",
    "import astropy.constants as c\n",
    "from astropy.timeseries import LombScargle\n",
    "import matplotlib.font_manager as font_manager\n",
    "%matplotlib inline\n",
    "font_prop = font_manager.FontProperties(size=16)"
   ]
  },
  {
   "cell_type": "code",
   "execution_count": 3,
   "metadata": {},
   "outputs": [],
   "source": [
    "import stingray as sr\n",
    "from stingray.events import EventList\n",
    "from stingray.lightcurve import Lightcurve"
   ]
  },
  {
   "cell_type": "code",
   "execution_count": 2,
   "metadata": {},
   "outputs": [
    {
     "name": "stderr",
     "output_type": "stream",
     "text": [
      "/Users/baotong/opt/anaconda3/lib/python3.8/site-packages/stingray/crossspectrum.py:21: UserWarning: Using standard scipy fft\n",
      "  warnings.warn(\"Using standard scipy fft\")\n"
     ]
    }
   ],
   "source": [
    "from stingray import Lightcurve, Crossspectrum, sampledata,Powerspectrum,AveragedPowerspectrum\n",
    "from stingray.simulator import simulator, models"
   ]
  },
  {
   "cell_type": "code",
   "execution_count": 9,
   "metadata": {},
   "outputs": [],
   "source": [
    "path='/Users/baotong/Desktop/CDFS/'"
   ]
  },
  {
   "cell_type": "code",
   "execution_count": 10,
   "metadata": {},
   "outputs": [],
   "source": [
    "file=fits.open(path+'081441.91+212918.5_lccorr_1000_hard.fits')"
   ]
  },
  {
   "cell_type": "code",
   "execution_count": 11,
   "metadata": {},
   "outputs": [],
   "source": [
    "time=file[1].data['time'];rate=file[1].data['rate'];err=file[1].data['ERROR']"
   ]
  },
  {
   "cell_type": "code",
   "execution_count": 38,
   "metadata": {},
   "outputs": [],
   "source": [
    "segment=10;out=[]"
   ]
  },
  {
   "cell_type": "code",
   "execution_count": 39,
   "metadata": {},
   "outputs": [],
   "source": [
    "i=0\n",
    "while i < len(time)-segment:\n",
    "    xbar=np.mean(rate[i:i+segment])\n",
    "    sigmai=err[i:i+segment]\n",
    "    xi=rate[i:i+segment]\n",
    "    N=segment\n",
    "    sig_NXS2=1/xbar**2*(1/(N-1)*np.sum((xi-xbar)*(xi-xbar))-1/N*np.sum(sigmai**2))\n",
    "    i+=1\n",
    "    out.append(sig_NXS2)"
   ]
  },
  {
   "cell_type": "code",
   "execution_count": 40,
   "metadata": {},
   "outputs": [
    {
     "name": "stdout",
     "output_type": "stream",
     "text": [
      "0.0006968589782864792\n"
     ]
    }
   ],
   "source": [
    "print(np.mean(np.array(out)))"
   ]
  },
  {
   "cell_type": "code",
   "execution_count": 59,
   "metadata": {},
   "outputs": [],
   "source": [
    "def get_LS(time, flux,freq):\n",
    "    x = time\n",
    "    y = flux\n",
    "    # dy=np.sqrt(y)\n",
    "    # plt.scatter(x,y)\n",
    "    # plt.show()\n",
    "\n",
    "    # LS = LombScargle(x, y, dy = 1, normalization = 'standard', fit_mean = True,\n",
    "    #                  center_data = True).power(freq, method = 'cython')\n",
    "    LS = LombScargle(x, y,normalization = 'psd')\n",
    "    # LS = LombScargle(x, y, dy, normalization='psd')\n",
    "    power = LS.power(freq)\n",
    "\n",
    "    # print('freq_num={0}'.format(len(freq)))\n",
    "    FP=LS.false_alarm_probability(power.max(),minimum_frequency = freq[0], maximum_frequency = freq[-1],method='naive')\n",
    "    FP_99 = LS.false_alarm_level(0.01, minimum_frequency = freq[0], maximum_frequency = freq[-1],method='naive')\n",
    "    FP_90 = LS.false_alarm_level(0.1,  minimum_frequency=freq[0],\n",
    "                                 maximum_frequency=freq[-1], method='naive')\n",
    "    FP_68 = LS.false_alarm_level(0.32, minimum_frequency=freq[0],\n",
    "                                 maximum_frequency=freq[-1], method='naive')\n",
    "\n",
    "    # if FP<0.01:print(dataname)\n",
    "    plt.title('FP={0}'.format(FP))\n",
    "    plt.semilogx()\n",
    "    plt.plot(freq, power)\n",
    "    print(1./freq[np.where(power==np.max(power))])\n",
    "    plt.plot([freq[0], freq[-1]], [FP_99, FP_99], '--')\n",
    "    plt.plot([freq[0], freq[-1]], [FP_90, FP_90], '--')\n",
    "    plt.plot([freq[0], freq[-1]], [FP_68, FP_68], '--')\n",
    "    plt.show()\n",
    "\n",
    "    return [FP, 1. / freq[np.where(power == np.max(power))]]\n"
   ]
  },
  {
   "cell_type": "code",
   "execution_count": 44,
   "metadata": {},
   "outputs": [],
   "source": [
    "path='/Users/baotong/Desktop/CDFS/'\n",
    "file1='145108.76+270926.9_lccorr_1000_soft.fits'\n",
    "file2='145108.76+270926.9_lccorr_1000_soft_2nd.fits'\n",
    "time1=fits.open(path+file1)[1].data['TIME']\n",
    "rate1=fits.open(path+file1)[1].data['RATE']\n",
    "err1=fits.open(path+file1)[1].data['ERROR']\n",
    "time2=fits.open(path+file2)[1].data['TIME']\n",
    "rate2=fits.open(path+file2)[1].data['RATE']\n",
    "err2=fits.open(path+file2)[1].data['ERROR']"
   ]
  },
  {
   "cell_type": "code",
   "execution_count": 46,
   "metadata": {},
   "outputs": [],
   "source": [
    "time=np.concatenate((time1,time2))\n",
    "rate=np.concatenate((rate1,rate2))\n",
    "err=np.concatenate((err1,err2))"
   ]
  },
  {
   "cell_type": "code",
   "execution_count": 95,
   "metadata": {},
   "outputs": [
    {
     "name": "stdout",
     "output_type": "stream",
     "text": [
      "[90000.]\n"
     ]
    },
    {
     "data": {
      "image/png": "[encoded data removed]",
      "text/plain": [
       "<Figure size 432x288 with 1 Axes>"
      ]
     },
     "metadata": {
      "needs_background": "light"
     },
     "output_type": "display_data"
    },
    {
     "data": {
      "text/plain": [
       "[0.0023760501170160017, array([90000.])]"
      ]
     },
     "execution_count": 95,
     "metadata": {},
     "output_type": "execute_result"
    }
   ],
   "source": [
    "freq=np.arange(1/90000.,1/2000.,1/1e6)\n",
    "get_LS(time2,rate2,freq)"
   ]
  },
  {
   "cell_type": "code",
   "execution_count": 32,
   "metadata": {},
   "outputs": [
    {
     "name": "stderr",
     "output_type": "stream",
     "text": [
      "WARNING:root:Checking if light curve is well behaved. This can take time, so if you are sure it is already sorted, specify skip_checks=True at light curve creation.\n",
      "WARNING:root:Checking if light curve is sorted.\n",
      "/Users/baotong/opt/anaconda3/lib/python3.8/site-packages/stingray/utils.py:118: UserWarning: SIMON says: Bin sizes in input time array aren't equal throughout! This could cause problems with Fourier transforms. Please make the input time evenly sampled.\n",
      "  warnings.warn(\"SIMON says: {0}\".format(message), **kwargs)\n",
      "WARNING:root:Checking if light curve is well behaved. This can take time, so if you are sure it is already sorted, specify skip_checks=True at light curve creation.\n",
      "WARNING:root:Checking if light curve is sorted.\n",
      "WARNING:root:Checking if light curve is well behaved. This can take time, so if you are sure it is already sorted, specify skip_checks=True at light curve creation.\n",
      "WARNING:root:Checking if light curve is sorted.\n"
     ]
    }
   ],
   "source": [
    "lc=Lightcurve(time,rate*1000,dt=1000)\n",
    "lc1=Lightcurve(time1,rate1*1000,dt=1000)\n",
    "lc2=Lightcurve(time2,rate2*1000,dt=1000)"
   ]
  },
  {
   "cell_type": "code",
   "execution_count": 33,
   "metadata": {},
   "outputs": [
    {
     "name": "stdout",
     "output_type": "stream",
     "text": [
      "[3313.2644 2872.4702 2965.7666 3411.0002 3600.9443 3150.4548 3187.955\n",
      " 3103.976  2478.3022 2404.0603 2512.8682 2481.7854 2479.2537 2616.3716\n",
      " 2604.5615 2278.174  1972.4325 1972.5249 1937.0721 2024.4071 2071.3862\n",
      " 2025.8412 2347.2207 2504.1924 2369.7732 2374.3965 2880.4146 2606.5662\n",
      " 2391.033  2393.4087 2425.3794 2784.5723 3031.6338 3497.1763 3303.5054\n",
      " 2455.1648 2570.7642 2908.0955 3141.9707 3274.6963 3026.194  3170.3435\n",
      " 3162.9272 2957.066  2509.2039 2212.8503 2055.6182 1873.2463 1782.086\n",
      " 1446.6174 1459.2473 1315.165  1407.0579 1575.5945 1656.3164 1420.1432\n",
      " 1397.8153 1313.4712 1265.5096 1329.003  1276.9061 1276.6786 1180.1051\n",
      " 1161.5052 1073.0402 1129.6779 1272.5571 1346.5328 1393.6146 1552.7231\n",
      " 1406.6969 1629.9257 1693.8164 1760.9065 1479.4222 1666.0844 1857.7052\n",
      " 2009.9915 2063.2246 2024.1364 1888.13   1641.5114]\n"
     ]
    }
   ],
   "source": [
    "print(lc2.counts)"
   ]
  },
  {
   "cell_type": "code",
   "execution_count": 78,
   "metadata": {},
   "outputs": [
    {
     "name": "stdout",
     "output_type": "stream",
     "text": [
      "[1.21951220e-05 2.43902439e-05 3.65853659e-05 4.87804878e-05\n",
      " 6.09756098e-05 7.31707317e-05 8.53658537e-05 9.75609756e-05\n",
      " 1.09756098e-04 1.21951220e-04 1.34146341e-04 1.46341463e-04\n",
      " 1.58536585e-04 1.70731707e-04 1.82926829e-04 1.95121951e-04\n",
      " 2.07317073e-04 2.19512195e-04 2.31707317e-04 2.43902439e-04\n",
      " 2.56097561e-04 2.68292683e-04 2.80487805e-04 2.92682927e-04\n",
      " 3.04878049e-04 3.17073171e-04 3.29268293e-04 3.41463415e-04\n",
      " 3.53658537e-04 3.65853659e-04 3.78048780e-04 3.90243902e-04\n",
      " 4.02439024e-04 4.14634146e-04 4.26829268e-04 4.39024390e-04\n",
      " 4.51219512e-04 4.63414634e-04 4.75609756e-04 4.87804878e-04]\n"
     ]
    }
   ],
   "source": [
    "ps = Powerspectrum(lc2,dt=1000)\n",
    "print(ps.freq)"
   ]
  },
  {
   "cell_type": "code",
   "execution_count": 79,
   "metadata": {},
   "outputs": [
    {
     "data": {
      "image/png": "[encoded data removed]",
      "text/plain": [
       "<Figure size 648x432 with 1 Axes>"
      ]
     },
     "metadata": {
      "needs_background": "light"
     },
     "output_type": "display_data"
    }
   ],
   "source": [
    "fig, ax1 = plt.subplots(1,1,figsize=(9,6), sharex=True)\n",
    "ax1.plot(ps.freq, ps.power, lw=2, color='blue')\n",
    "ax1.set_ylabel(\"Frequency (Hz)\", fontproperties=font_prop)\n",
    "ax1.set_ylabel(\"Power (raw)\", fontproperties=font_prop)\n",
    "ax1.set_yscale('log')\n",
    "ax1.tick_params(axis='x', labelsize=16)\n",
    "ax1.tick_params(axis='y', labelsize=16)\n",
    "ax1.tick_params(which='major', width=1.5, length=7)\n",
    "ax1.tick_params(which='minor', width=1.5, length=4)\n",
    "for axis in ['top', 'bottom', 'left', 'right']:\n",
    "    ax1.spines[axis].set_linewidth(1.5)\n",
    "plt.show()"
   ]
  },
  {
   "cell_type": "code",
   "execution_count": 56,
   "metadata": {},
   "outputs": [],
   "source": [
    "def pfold(time,P,flux):\n",
    "    def trans(t, p_test, shift=0.5):\n",
    "        ti = t\n",
    "        v = 1.0 / p_test\n",
    "        turns = v * ti\n",
    "        turns += shift\n",
    "        # 初始相位\n",
    "        for i in range(len(turns)):\n",
    "            turns[i] = turns[i] - int(turns[i])\n",
    "        return turns\n",
    "    turns=trans(time,P)\n",
    "    plt.figure(1,(8,6))\n",
    "    plt.xlabel('phase')\n",
    "    plt.ylabel('photon flux')\n",
    "    #print(useobs[np.where((turns<0.5)&(turns>0.2))])\n",
    "    plt.errorbar(turns,flux[0],yerr=[flux[0]-flux[1],flux[2]-flux[0]],\n",
    "                 fmt = 'o', capsize = 3, elinewidth = 1, color='red',ecolor = 'red')\n",
    "#     plt.errorbar(turns+1., flux[0], yerr = [flux[0] - flux[1], flux[2] - flux[0]],\n",
    "#                  fmt = 'o', capsize = 3, elinewidth = 1, color = 'red', ecolor = 'red')\n",
    "    #plt.savefig('/Volumes/pulsar/WR/1671/pfold_2_4.eps')\n",
    "    plt.show()\n",
    "#pfold(usetime,7.5188,[CR_IG,CR_low_IG,CR_high_IG])"
   ]
  },
  {
   "cell_type": "code",
   "execution_count": 72,
   "metadata": {},
   "outputs": [
    {
     "data": {
      "image/png": "[encoded data removed]",
      "text/plain": [
       "<Figure size 576x432 with 1 Axes>"
      ]
     },
     "metadata": {
      "needs_background": "light"
     },
     "output_type": "display_data"
    }
   ],
   "source": [
    "pfold(time2,42253.52112676,[rate2,rate2-err2,rate2+err2])"
   ]
  }
 ],
 "metadata": {
  "kernelspec": {
   "display_name": "Python [conda env:root]",
   "language": "python",
   "name": "conda-root-py"
  },
  "language_info": {
   "codemirror_mode": {
    "name": "ipython",
    "version": 3
   },
   "file_extension": ".py",
   "mimetype": "text/x-python",
   "name": "python",
   "nbconvert_exporter": "python",
   "pygments_lexer": "ipython3",
   "version": "3.8.5"
  }
 },
 "nbformat": 4,
 "nbformat_minor": 4
}
