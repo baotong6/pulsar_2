{
 "cells": [
  {
   "cell_type": "code",
   "execution_count": 1,
   "metadata": {},
   "outputs": [],
   "source": [
    "%matplotlib widget      "
   ]
  },
  {
   "cell_type": "code",
   "execution_count": 2,
   "metadata": {},
   "outputs": [],
   "source": [
    "import warnings\n",
    "warnings.filterwarnings('ignore')"
   ]
  },
  {
   "cell_type": "code",
   "execution_count": 3,
   "metadata": {},
   "outputs": [],
   "source": [
    "import numpy as np\n",
    "import matplotlib.pyplot as plt\n",
    "from astropy.io import fits\n",
    "import pandas as pd\n",
    "import sys\n",
    "import os\n",
    "from scipy import interpolate\n",
    "from astropy import units as u\n",
    "from astropy.coordinates import SkyCoord\n",
    "from astropy.io import fits\n",
    "from tkinter import _flatten\n",
    "from astropy.stats import poisson_conf_interval\n",
    "from pwkit.bblocks import tt_bblock as bb"
   ]
  },
  {
   "cell_type": "code",
   "execution_count": 4,
   "metadata": {},
   "outputs": [],
   "source": [
    "srcid=np.linspace(1,1055,1055)\n",
    "srcid=srcid.astype(int)"
   ]
  },
  {
   "cell_type": "code",
   "execution_count": 5,
   "metadata": {},
   "outputs": [],
   "source": [
    "path='/Users/baotong/Desktop/CDFS/'"
   ]
  },
  {
   "cell_type": "code",
   "execution_count": 6,
   "metadata": {},
   "outputs": [],
   "source": [
    "def plot_longT_V(data_file,epoch_file):\n",
    "    epoch_info = np.loadtxt(epoch_file)\n",
    "    t_start = epoch_info[:, 0]\n",
    "    t_end = epoch_info[:, 1]\n",
    "    obsID = epoch_info[:, 2]\n",
    "    expT = epoch_info[:, 3]\n",
    "    time = np.loadtxt(data_file)\n",
    "    cts=[]\n",
    "    for i in range(len(obsID)):\n",
    "        cts.append(len(np.where(time[:,2]==obsID[i])[0]))\n",
    "    cts=np.array(cts)\n",
    "    CR=cts/expT\n",
    "#     print(obsID[np.where(CR>0.0006)])\n",
    "    if np.min(CR)!=0:\n",
    "        VI=np.max(CR)/np.min(CR)\n",
    "    else:VI=0\n",
    "    plt.title(dataname[0:-4]+', VI={0}'.format(VI))\n",
    "    plt.scatter(t_start,CR,marker='+')\n",
    "    plt.show()\n",
    "    "
   ]
  },
  {
   "cell_type": "code",
   "execution_count": 16,
   "metadata": {},
   "outputs": [
    {
     "data": {
      "application/vnd.jupyter.widget-view+json": {
       "model_id": "13e20325bca34852bcd8fd1c1e17d9d9",
       "version_major": 2,
       "version_minor": 0
      },
      "text/plain": [
       "Canvas(toolbar=Toolbar(toolitems=[('Home', 'Reset original view', 'home', 'home'), ('Back', 'Back to previous …"
      ]
     },
     "metadata": {},
     "output_type": "display_data"
    }
   ],
   "source": [
    "path='/Users/baotong/Desktop/CDFS/txt_all_obs_0.5_8/'\n",
    "id=780\n",
    "dataname='{0}.txt'.format(id)\n",
    "data_file=path+dataname\n",
    "plot_longT_V(path + dataname, path + 'epoch_src_' + dataname)"
   ]
  },
  {
   "cell_type": "code",
   "execution_count": 9,
   "metadata": {},
   "outputs": [],
   "source": [
    "def get_bright_id(cts_limit):\n",
    "    cts_num=[]\n",
    "    for i in range(len(srcid)):\n",
    "        dataname='{0}.txt'.format(srcid[i])\n",
    "        data_file=path+dataname\n",
    "        time=np.loadtxt(data_file)[:,0]\n",
    "        cts_num.append(len(time))\n",
    "    cts_num=np.array(cts_num)\n",
    "    return srcid[np.where(cts_num>cts_limit)]"
   ]
  },
  {
   "cell_type": "code",
   "execution_count": 10,
   "metadata": {},
   "outputs": [],
   "source": [
    "# get_bright_id(1000)"
   ]
  },
  {
   "cell_type": "code",
   "execution_count": 8,
   "metadata": {},
   "outputs": [
    {
     "ename": "NameError",
     "evalue": "name 'get_bright_id' is not defined",
     "output_type": "error",
     "traceback": [
      "\u001b[0;31m---------------------------------------------------------------------------\u001b[0m",
      "\u001b[0;31mNameError\u001b[0m                                 Traceback (most recent call last)",
      "\u001b[0;32m<ipython-input-8-e73945a8dc2f>\u001b[0m in \u001b[0;36m<module>\u001b[0;34m\u001b[0m\n\u001b[0;32m----> 1\u001b[0;31m \u001b[0mbright_id\u001b[0m\u001b[0;34m=\u001b[0m\u001b[0mget_bright_id\u001b[0m\u001b[0;34m(\u001b[0m\u001b[0;36m1500\u001b[0m\u001b[0;34m)\u001b[0m\u001b[0;34m\u001b[0m\u001b[0;34m\u001b[0m\u001b[0m\n\u001b[0m\u001b[1;32m      2\u001b[0m \u001b[0;32mfor\u001b[0m \u001b[0mid\u001b[0m \u001b[0;32min\u001b[0m \u001b[0mbright_id\u001b[0m\u001b[0;34m:\u001b[0m\u001b[0;34m\u001b[0m\u001b[0;34m\u001b[0m\u001b[0m\n\u001b[1;32m      3\u001b[0m     \u001b[0mdataname\u001b[0m\u001b[0;34m=\u001b[0m\u001b[0;34m'{0}.txt'\u001b[0m\u001b[0;34m.\u001b[0m\u001b[0mformat\u001b[0m\u001b[0;34m(\u001b[0m\u001b[0mid\u001b[0m\u001b[0;34m)\u001b[0m\u001b[0;34m\u001b[0m\u001b[0;34m\u001b[0m\u001b[0m\n\u001b[1;32m      4\u001b[0m     \u001b[0mdata_file\u001b[0m\u001b[0;34m=\u001b[0m\u001b[0mpath\u001b[0m\u001b[0;34m+\u001b[0m\u001b[0mdataname\u001b[0m\u001b[0;34m\u001b[0m\u001b[0;34m\u001b[0m\u001b[0m\n\u001b[1;32m      5\u001b[0m     \u001b[0mtime\u001b[0m\u001b[0;34m=\u001b[0m\u001b[0mnp\u001b[0m\u001b[0;34m.\u001b[0m\u001b[0mloadtxt\u001b[0m\u001b[0;34m(\u001b[0m\u001b[0mdata_file\u001b[0m\u001b[0;34m)\u001b[0m\u001b[0;34m[\u001b[0m\u001b[0;34m:\u001b[0m\u001b[0;34m,\u001b[0m\u001b[0;36m0\u001b[0m\u001b[0;34m]\u001b[0m\u001b[0;34m\u001b[0m\u001b[0;34m\u001b[0m\u001b[0m\n",
      "\u001b[0;31mNameError\u001b[0m: name 'get_bright_id' is not defined"
     ]
    }
   ],
   "source": [
    "bright_id=get_bright_id(1500)\n",
    "for id in bright_id:\n",
    "    dataname='{0}.txt'.format(id)\n",
    "    data_file=path+dataname\n",
    "    time=np.loadtxt(data_file)[:,0]\n",
    "    plot_longT_V(path + dataname, path + 'epoch_src_' + dataname)"
   ]
  },
  {
   "cell_type": "code",
   "execution_count": 11,
   "metadata": {},
   "outputs": [],
   "source": [
    "obs_ID=[581,1431,441,582,2406,2405,2312,1672,2409,2313,2239,8591,9593,9718,8593,8597,8595,8592,8596,\n",
    "9575,9578,8594,9596,12043,12123,12044,12128,12045,12129,12135,12046,12047,12137,12138,12055,12213,12048,\n",
    "12049,12050,12222,12219,12051,12218,12223,12052,12220,12053,12054,12230,12231,12227,12233,12232,12234,16183,\n",
    "16180,16456,16641,16457,16644,16463,17417,17416,16454,16176,16175,16178,16177,16620,16462,17535,17542,16184,\n",
    "16182,16181,17546,16186,16187,16188,16450,16190,16189,17556,16179,17573,17633,17634,16453,16451,16461,16191,\n",
    "16460,16459,17552,16455,16458,17677,18709,18719,16452,18730,16185]\n",
    "\n",
    "source_id=np.linspace(1,1055,1055)\n",
    "source_id=source_id.astype(int)"
   ]
  },
  {
   "cell_type": "code",
   "execution_count": 12,
   "metadata": {},
   "outputs": [],
   "source": [
    "path='/Users/baotong/Desktop/CDFS/'"
   ]
  },
  {
   "cell_type": "code",
   "execution_count": 68,
   "metadata": {},
   "outputs": [],
   "source": [
    "# def filter_evt_byobstime(epochtime,src_evt,bkg_evt,epoch):\n",
    "#     useobs=epoch[np.where((epoch[:,0]>epoch1[0])&(epoch[:,0]<epoch1[1]))]\n",
    "#     print(src_evt[:,-1])\n",
    "#     print(useobs)\n",
    "# epoch1=[55e6,100e6]\n",
    "# epoch2=[300e6,320e6]\n",
    "# epoch3=[380e6,400e6]\n",
    "# epoch4=[500e6,580e6]\n",
    "# k=0;i=122\n",
    "# src_evt=np.loadtxt(path+'txt_obs_each/txt_{0}_0.5_8/{1}.txt'.format(obs_ID[k],source_id[i]))\n",
    "# bkg_evt=np.loadtxt(path+'txt_obs_each/txt_{0}_0.5_8/{1}_bkg.txt'.format(obs_ID[k],source_id[i]))\n",
    "# epoch=np.loadtxt(path+'txt_all_obs_0.5_8/epoch_src_{0}.txt'.format(source_id[i]))\n",
    "# filter_evt_byobstime(epoch1,src_evt,bkg_evt,epoch)"
   ]
  },
  {
   "cell_type": "markdown",
   "metadata": {},
   "source": [
    "## 给定epoch（起止时间），返回该时间内的源和背景的事件和epoch文件"
   ]
  },
  {
   "cell_type": "code",
   "execution_count": 13,
   "metadata": {},
   "outputs": [],
   "source": [
    "def get_evt_from_epoch(epochnum,source_id):\n",
    "    src_evt_all=[];bkg_evt_all=[];epoch_all=[]\n",
    "    for i in range(len(source_id)):\n",
    "        epoch=np.loadtxt(path+'txt_all_obs_0.5_8/epoch_src_{0}.txt'.format(source_id[i]))\n",
    "        useobs=epoch[np.where((epoch[:,0]>epochnum[0])&(epoch[:,0]<epochnum[1]))]\n",
    "#         print(useobs)\n",
    "        use_obsid=useobs[:,2].astype(int)\n",
    "        src_evt=[];bkg_evt=[];\n",
    "        for k in range(len(use_obsid)):\n",
    "            src_evt_k=np.loadtxt(path+'txt_obs_each/txt_{0}_0.5_8/{1}.txt'.format(use_obsid[k],source_id[i]))\n",
    "            bkg_evt_k=np.loadtxt(path+'txt_obs_each/txt_{0}_0.5_8/{1}_bkg.txt'.format(use_obsid[k],source_id[i]))\n",
    "            if len(src_evt_k)==0:\n",
    "                continue\n",
    "            elif type(src_evt_k[0])==type(np.array([1.2])[0]):src_evt_k=[src_evt_k]\n",
    "                \n",
    "            if len(bkg_evt)==0:\n",
    "                bkg_evt=bkg_evt_k\n",
    "               \n",
    "            if len(bkg_evt_k)==0:\n",
    "                bkg_evt=bkg_evt\n",
    "            elif type(bkg_evt_k[0])==type(np.array([1.2])[0]):\n",
    "                bkg_evt_k=[bkg_evt_k]\n",
    "                bkg_evt=np.row_stack((bkg_evt,bkg_evt_k))    \n",
    "            else:\n",
    "                bkg_evt=np.row_stack((bkg_evt,bkg_evt_k))   \n",
    "            if len(src_evt)==0:\n",
    "                src_evt=src_evt_k\n",
    "            else:src_evt=np.row_stack((src_evt,src_evt_k))\n",
    "        src_evt_all.append(src_evt);bkg_evt_all.append(bkg_evt);epoch_all.append(useobs)\n",
    "    return [src_evt_all,bkg_evt_all,epoch_all]"
   ]
  },
  {
   "cell_type": "code",
   "execution_count": 14,
   "metadata": {},
   "outputs": [
    {
     "data": {
      "text/plain": [
       "array([[ 4, 40],\n",
       "       [ 5, 50],\n",
       "       [ 2, 20]])"
      ]
     },
     "execution_count": 14,
     "metadata": {},
     "output_type": "execute_result"
    }
   ],
   "source": [
    "np.row_stack((np.array([[4,40],[5,50]]),[[2,20]]))"
   ]
  },
  {
   "cell_type": "code",
   "execution_count": 15,
   "metadata": {},
   "outputs": [],
   "source": [
    "epoch1=[55e6,100e6]\n",
    "epoch2=[300e6,320e6]\n",
    "epoch3=[380e6,400e6]\n",
    "epoch4=[500e6,580e6]\n",
    "EPALL=np.array([epoch1,epoch2,epoch3,epoch4])"
   ]
  },
  {
   "cell_type": "code",
   "execution_count": 16,
   "metadata": {},
   "outputs": [],
   "source": [
    "source_id=srcid\n",
    "for i in range(len(EPALL)):\n",
    "    EVTALL=get_evt_from_epoch(EPALL[i],source_id)\n",
    "    for j in range(len(source_id)):\n",
    "        if len(EVTALL[0][j])==0:\n",
    "            np.savetxt(path+'txt_all_obs_0.5_8_ep{0}/{1}.txt'.format(i+1,source_id[j]),\n",
    "                   EVTALL[0][j])\n",
    "        else:\n",
    "            np.savetxt(path+'txt_all_obs_0.5_8_ep{0}/{1}.txt'.format(i+1,source_id[j]),\n",
    "                   EVTALL[0][j],fmt=\"%.7f  %8.3f  %10d\")\n",
    "        if len(EVTALL[1][j])==0:    \n",
    "            np.savetxt(path+'txt_all_obs_0.5_8_ep{0}/{1}_bkg.txt'.format(i+1,source_id[j]),\n",
    "                   EVTALL[1][j])\n",
    "        else:\n",
    "            np.savetxt(path+'txt_all_obs_0.5_8_ep{0}/{1}_bkg.txt'.format(i+1,source_id[j]),\n",
    "                   EVTALL[1][j],fmt=\"%.7f  %8.3f  %10d\")\n",
    "        np.savetxt(path+'txt_all_obs_0.5_8_ep{0}/epoch_src_{1}.txt'.format(i+1,source_id[j]),\n",
    "                   EVTALL[2][j],fmt='%15.2f %15.2f %10d %20.2f')"
   ]
  },
  {
   "cell_type": "code",
   "execution_count": null,
   "metadata": {},
   "outputs": [],
   "source": [
    "def make_aprates_input():\n",
    "    os.chdir(path+'txt_all_obs_0.5_8_ep{0}'.format(i+1))\n",
    "    os.system('mkdir aprates')\n",
    "    src_cts=len(np.loadtxt('{0}.txt'.format(source_id[j])))\n",
    "    bkg_cts=len(np.loadtxt('{0}_bkg.txt'.format(source_id[j])))\n",
    "    epoch=np.loadtxt('epoch_src_{0}.txt'.format(source_id[j]))\n",
    "    exp_s=1\n",
    "    aprates_text='aprates n={0} m={1} A_s={2} A_b={3} alpha=0.9 beta=0.02 T_s=1 ' \\\n",
    "                             'E_s={4} eng_s=1 flux_s=1 T_b=1 E_b={5} eng_b=1 flux_b=1 clobber=yes ' \\\n",
    "                             'outfile={6} conf=0.9973'.format(src_cts,bkg_cts,backscale,b_backscale,exp_s,exp_s,str(int(ID))+'_'+str(int(obs))+'_out.par')\n",
    "    with open('aprates/'+'run_'+str(int(ID))+'_'+str(int(obs))+'.e', 'w+') as f:\n",
    "        f.writelines(aprates_text)\n",
    "    "
   ]
  },
  {
   "cell_type": "code",
   "execution_count": 227,
   "metadata": {},
   "outputs": [],
   "source": [
    "source_id=srcid\n",
    "def write_4ep_info():\n",
    "    for j in range(len(source_id)):\n",
    "        src_cts=[];bkg_cts=[];exptime=[];\n",
    "        for i in range(len(EPALL)):\n",
    "            os.chdir(path+'txt_all_obs_0.5_8_ep{0}'.format(i+1))\n",
    "            src_cts.append(len(np.loadtxt('{0}.txt'.format(source_id[j]))))\n",
    "            bkg_cts.append(len(np.loadtxt('{0}_bkg.txt'.format(source_id[j]))))\n",
    "            epoch=np.loadtxt('epoch_src_{0}.txt'.format(source_id[j]))\n",
    "            if len(epoch)==0:\n",
    "                exptime.append(0)\n",
    "            elif type(epoch[0])==type(np.array([1.2])[0]):\n",
    "                exptime.append(epoch[-1])\n",
    "            else:\n",
    "                exptime.append(np.sum(epoch[:,-1]))\n",
    "        info=np.column_stack((src_cts,bkg_cts,exptime,obstime))\n",
    "        np.savetxt(path+'ep1-4_info/{0}_4ep_info.txt'.format(source_id[j]),info,fmt='%10d  %10d  %10.5f')\n"
   ]
  },
  {
   "cell_type": "code",
   "execution_count": 226,
   "metadata": {},
   "outputs": [],
   "source": [
    "write_4ep_info()"
   ]
  },
  {
   "cell_type": "code",
   "execution_count": 298,
   "metadata": {},
   "outputs": [],
   "source": [
    "  def plot_var_4ep(src_ID):\n",
    "    ep4info=np.loadtxt(path+'ep1-4_info/{0}_4ep_info.txt'.format(src_ID))\n",
    "    expT=ep4info[:,-1]\n",
    "    src_cts=ep4info[:,0];bkg_cts=ep4info[:,1]\n",
    "    err=poisson_conf_interval(src_cts, background=bkg_cts/12., confidence_level=0.90,\n",
    "    interval='kraft-burrows-nousek').T  \n",
    "    x=[np.mean(EPALL[i]) for i in range(len(EPALL))]\n",
    "    y=(src_cts-bkg_cts/12.)\n",
    "    yerr=[0,0]\n",
    "    yerr[0]=y-err[:,0]\n",
    "    yerr[1]=err[:,1]-y\n",
    "    \n",
    "    y/=expT\n",
    "    yerr/=expT\n",
    "    plt.errorbar(x, y, yerr = yerr, fmt = '.', capsize = 1, elinewidth = 1, ecolor = 'red')\n",
    "    plt.semilogy()\n",
    "    plt.show()"
   ]
  },
  {
   "cell_type": "code",
   "execution_count": 299,
   "metadata": {},
   "outputs": [
    {
     "data": {
      "application/vnd.jupyter.widget-view+json": {
       "model_id": "b980964507294eab927a01d03823d8c5",
       "version_major": 2,
       "version_minor": 0
      },
      "text/plain": [
       "Canvas(toolbar=Toolbar(toolitems=[('Home', 'Reset original view', 'home', 'home'), ('Back', 'Back to previous …"
      ]
     },
     "metadata": {},
     "output_type": "display_data"
    }
   ],
   "source": [
    "%matplotlib widget  \n",
    "plot_var_4ep('479')"
   ]
  },
  {
   "cell_type": "code",
   "execution_count": 90,
   "metadata": {},
   "outputs": [],
   "source": [
    "def bb_all_obs(source_id):\n",
    "    epoch=np.loadtxt(path+'txt_all_obs_0.5_8_ep3/epoch_src_{0}.txt'.format(source_id))\n",
    "    tstart=np.array(epoch[:,0])\n",
    "    tstop=np.array(epoch[:,1])\n",
    "    obs_id=epoch[:,2].astype(int)\n",
    "    temp=np.loadtxt(path+'txt_all_obs_0.5_8_ep3/{0}.txt'.format(source_id))\n",
    "    if len(temp)==0:src_evt=np.array([])\n",
    "    elif type(temp[0])==type(np.array([1.2])[0]):src_evt=np.array([temp[0]])\n",
    "    else: src_evt=temp[:,0]\n",
    "    return bb(tstart,tstop,src_evt,p0=0.9,intersect_with_bins=True)"
   ]
  },
  {
   "cell_type": "code",
   "execution_count": 91,
   "metadata": {},
   "outputs": [
    {
     "name": "stdout",
     "output_type": "stream",
     "text": [
      "{counts=[192 192 192 192 192 192 192 192 192 192 192 192 192  28  28  28  28  28\n",
      "  28  28  94  94  94  94  94  94  94  94  94  94  94  94], finalp0=0.31870793094203875, ledges=[3.85263293e+08 3.85545829e+08 3.85730815e+08 3.86082193e+08\n",
      " 3.86181208e+08 3.86694947e+08 3.86933446e+08 3.87101510e+08\n",
      " 3.87465343e+08 3.87794853e+08 3.87981284e+08 3.90330561e+08\n",
      " 3.90492993e+08 3.90546525e+08 3.90985396e+08 3.91459971e+08\n",
      " 3.91934506e+08 3.92092944e+08 3.92228686e+08 3.92556304e+08\n",
      " 3.92638395e+08 3.92777534e+08 3.93004667e+08 3.93252653e+08\n",
      " 3.94686546e+08 3.95062349e+08 3.95207363e+08 3.95291961e+08\n",
      " 3.95528498e+08 3.95662985e+08 3.95869910e+08 3.96215805e+08], midpoints=[3.85330027e+08 3.85559349e+08 3.85782578e+08 3.86094416e+08\n",
      " 3.86232903e+08 3.86735180e+08 3.86965909e+08 3.87141853e+08\n",
      " 3.87471367e+08 3.87842862e+08 3.88002566e+08 3.90372471e+08\n",
      " 3.90519759e+08 3.90552082e+08 3.91056297e+08 3.91505403e+08\n",
      " 3.91950288e+08 3.92109657e+08 3.92246785e+08 3.92586464e+08\n",
      " 3.92683576e+08 3.92829799e+08 3.93061762e+08 3.93278047e+08\n",
      " 3.94722352e+08 3.95094749e+08 3.95225433e+08 3.95305884e+08\n",
      " 3.95557511e+08 3.95681970e+08 3.95887343e+08 3.96241772e+08], nblocks=32, ncells=314, origp0=0.9, rates=[2.11935809e-04 2.11935809e-04 2.11935809e-04 2.11935809e-04\n",
      " 2.11935809e-04 2.11935809e-04 2.11935809e-04 2.11935809e-04\n",
      " 2.11935809e-04 2.11935809e-04 2.11935809e-04 2.11935809e-04\n",
      " 2.11935809e-04 6.90864786e-05 6.90864786e-05 6.90864786e-05\n",
      " 6.90864786e-05 6.90864786e-05 6.90864786e-05 6.90864786e-05\n",
      " 1.26503423e-04 1.26503423e-04 1.26503423e-04 1.26503423e-04\n",
      " 1.26503423e-04 1.26503423e-04 1.26503423e-04 1.26503423e-04\n",
      " 1.26503423e-04 1.26503423e-04 1.26503423e-04 1.26503423e-04], redges=[3.85396762e+08 3.85572868e+08 3.85834341e+08 3.86106639e+08\n",
      " 3.86284598e+08 3.86775412e+08 3.86998372e+08 3.87182197e+08\n",
      " 3.87477392e+08 3.87890871e+08 3.88023848e+08 3.90414382e+08\n",
      " 3.90546525e+08 3.90557638e+08 3.91127198e+08 3.91550836e+08\n",
      " 3.91966070e+08 3.92126371e+08 3.92264884e+08 3.92616624e+08\n",
      " 3.92728758e+08 3.92882064e+08 3.93118857e+08 3.93303441e+08\n",
      " 3.94758158e+08 3.95127148e+08 3.95243503e+08 3.95319807e+08\n",
      " 3.95586525e+08 3.95700954e+08 3.95904776e+08 3.96267738e+08], widths=[905934.6828779  905934.6828779  905934.6828779  905934.6828779\n",
      " 905934.6828779  905934.6828779  905934.6828779  905934.6828779\n",
      " 905934.6828779  905934.6828779  905934.6828779  905934.6828779\n",
      " 905934.6828779  405289.14712232 405289.14712232 405289.14712232\n",
      " 405289.14712232 405289.14712232 405289.14712232 405289.14712232\n",
      " 743062.9000001  743062.9000001  743062.9000001  743062.9000001\n",
      " 743062.9000001  743062.9000001  743062.9000001  743062.9000001\n",
      " 743062.9000001  743062.9000001  743062.9000001  743062.9000001 ]}\n"
     ]
    }
   ],
   "source": [
    "# %matplotlib widget \n",
    "test_bb=bb_all_obs('106')\n",
    "print(test_bb)\n",
    "plt.step(test_bb.midpoints,test_bb.rates)\n",
    "plt.show()"
   ]
  },
  {
   "cell_type": "code",
   "execution_count": 400,
   "metadata": {},
   "outputs": [],
   "source": [
    "def bb_single_obs(source_id):\n",
    "    epoch=np.loadtxt(path+'txt_all_obs_0.5_8/epoch_src_{0}.txt'.format(source_id))\n",
    "    tstart=np.array(epoch[:,0])\n",
    "    tstop=np.array(epoch[:,1])\n",
    "    obs_id=epoch[:,2].astype(int)\n",
    "    \n",
    "    BB_all=[]\n",
    "    for i in range(len(obs_id)):\n",
    "        temp=np.loadtxt(path+'txt_obs_each/txt_{0}_0.5_8/{1}.txt'.format(obs_id[i],source_id))\n",
    "        if len(temp)==0:BB_all.append([])\n",
    "        elif type(temp[0])==type(np.array([1.2])[0]):src_evt=np.array([temp[0]])\n",
    "        else: src_evt=temp[:,0];BB_all.append(bb([tstart[i]],[tstop[i]],src_evt,p0=0.5,intersect_with_bins=False))\n",
    "    return BB_all"
   ]
  },
  {
   "cell_type": "code",
   "execution_count": 586,
   "metadata": {},
   "outputs": [],
   "source": [
    "# %matplotlib widget  \n",
    "# test_bb=bb_all_obs('855')\n",
    "# print(test_bb)\n",
    "# plt.step(test_bb.midpoints,test_bb.rates)\n",
    "# plt.show()"
   ]
  },
  {
   "cell_type": "code",
   "execution_count": 390,
   "metadata": {},
   "outputs": [
    {
     "name": "stdout",
     "output_type": "stream",
     "text": [
      "121\n"
     ]
    }
   ],
   "source": [
    "test_bb=bb_single_obs('479')\n",
    "block=0;\n",
    "for i in range(len(test_bb)):\n",
    "    if type(test_bb[i])==type([]):\n",
    "        block+=0\n",
    "    else:\n",
    "        block+=test_bb[i].nblocks\n",
    "print(block)"
   ]
  },
  {
   "cell_type": "code",
   "execution_count": 565,
   "metadata": {},
   "outputs": [
    {
     "name": "stdout",
     "output_type": "stream",
     "text": [
      "(array([ 2.   ,  2.213,  4.   ,  5.   , 10.   , 24.   ]), array([ 5,  3,  7, 11,  0,  4]))\n",
      "[10.     2.213 24.     2.     4.     5.   ]\n"
     ]
    }
   ],
   "source": [
    "a=np.array([10,10,10,2.213,24,2,2,4,4,4,4,5,5])\n",
    "temp=np.unique(a,return_index='True')\n",
    "print(temp)\n",
    "print(a[np.sort(temp[1])])"
   ]
  },
  {
   "cell_type": "code",
   "execution_count": 566,
   "metadata": {},
   "outputs": [],
   "source": [
    "def cut_bb_res(BB_Holder):\n",
    "    [counts,index1]=np.unique(BB_Holder.counts,return_index='True')\n",
    "    [rates,index2]=np.unique(BB_Holder.rates,return_index='True')\n",
    "    if (index1==index2).all()=='False':\n",
    "        print('error')\n",
    "    index1=np.sort(index1)\n",
    "    counts=BB_Holder.counts[index1];rates=BB_Holder.rates[index1]\n",
    "    ledges=np.array(np.split(BB_Holder.ledges,index1[1:]))\n",
    "    redges=np.array(np.split(BB_Holder.redges,index1[1:]))\n",
    "    midpoints=np.array(np.split(BB_Holder.midpoints,index1[1:]))\n",
    "    blocks=len(index1)\n",
    "    return [counts,rates,ledges,redges,midpoints,blocks]"
   ]
  },
  {
   "cell_type": "code",
   "execution_count": 630,
   "metadata": {},
   "outputs": [],
   "source": [
    "def plot_cutbb_res(source_id):\n",
    "    %matplotlib widget \n",
    "    [counts,rates,ledges,redges,midpoints,blocks]=cut_bb_res(bb_all_obs(source_id))\n",
    "    expT=counts/rates\n",
    "    ledges_plt=[];redges_plt=[];\n",
    "    for i in range(len(counts)):\n",
    "        ledges_plt.append(ledges[i][0])\n",
    "        redges_plt.append(redges[i][-1])\n",
    "    ledges_plt=np.array(ledges_plt);redges_plt=np.array(redges_plt)\n",
    "    midpoints_plt=(ledges_plt+redges_plt)/2.\n",
    "    VI=np.max(rates)/np.min(rates)\n",
    "#     ledges_plt=np.concatenate((ledges_plt,[redges_plt[-1]]))\n",
    "#     rates=np.concatenate((np.array([0]),rates))\n",
    "#     plt.step(ledges_plt,rates)\n",
    "#     plt.show()\n",
    "    x=midpoints_plt;xerr=[x-ledges_plt,redges_plt-x]\n",
    "    y=rates\n",
    "    ylim=poisson_conf_interval(counts,interval='frequentist-confidence',sigma=2)/expT\n",
    "    yerr=[y-ylim[0],ylim[1]-y]\n",
    "    plt.errorbar(x, y, xerr=xerr,yerr = yerr, fmt = '.', capsize = 1, elinewidth = 1, ecolor = 'red')\n",
    "    \n",
    "    print(EPALL[1])\n",
    "    plt.fill_between(EPALL[0],np.max(ylim[1]),hatch='\\\\',color='green')\n",
    "    plt.fill_between(EPALL[1],np.max(ylim[1]),hatch='\\\\',color='green')\n",
    "    plt.fill_between(EPALL[2],np.max(ylim[1]),hatch='\\\\',color='green')\n",
    "    plt.fill_between(EPALL[3],np.max(ylim[1]),hatch='\\\\',color='green')\n",
    "#     plt.semilogy()\n",
    "    plt.show()\n",
    "    "
   ]
  },
  {
   "cell_type": "code",
   "execution_count": 633,
   "metadata": {},
   "outputs": [
    {
     "data": {
      "application/vnd.jupyter.widget-view+json": {
       "model_id": "af72424e0e7c40cfb1ba00687645ee1a",
       "version_major": 2,
       "version_minor": 0
      },
      "text/plain": [
       "Canvas(toolbar=Toolbar(toolitems=[('Home', 'Reset original view', 'home', 'home'), ('Back', 'Back to previous …"
      ]
     },
     "metadata": {},
     "output_type": "display_data"
    },
    {
     "name": "stdout",
     "output_type": "stream",
     "text": [
      "[3.0e+08 3.2e+08]\n"
     ]
    }
   ],
   "source": [
    "plot_cutbb_res('780')"
   ]
  },
  {
   "cell_type": "code",
   "execution_count": 218,
   "metadata": {},
   "outputs": [],
   "source": [
    "from scipy.optimize import curve_fit\n",
    "import astropy.units as u\n",
    "import astropy.constants as c"
   ]
  },
  {
   "cell_type": "code",
   "execution_count": 219,
   "metadata": {},
   "outputs": [],
   "source": [
    "def EddL(mass):\n",
    "    L=4*np.pi*c.G.cgs*mass*u.Msun.cgs*c.m_p*c.c.cgs/c.sigma_T.cgs\n",
    "    L=L.to(u.erg/u.s)\n",
    "    return L.value"
   ]
  },
  {
   "cell_type": "code",
   "execution_count": 220,
   "metadata": {},
   "outputs": [],
   "source": [
    "def plot_QPO_MASS():\n",
    "    %matplotlib widget    \n",
    "    srcid=[127,384,106,124,51,141,867]\n",
    "    \n",
    "    qpo=[291.3885776,893.0091637,274.5237018,282.7124869,214.7550065,349.7908837,750.11999]\n",
    "    srcid=np.array(srcid);qpo=np.array(qpo)\n",
    "    catalog=fits.open('/Users/baotong/Desktop/CDFS/7Ms_catalog.fit')\n",
    "    zF=catalog[1].data['zF']\n",
    "    Seq=catalog[1].data['Seq']\n",
    "    LX=catalog[1].data['LX']\n",
    "    zF_use=zF[srcid-1]\n",
    "    LX_use=LX[srcid-1]\n",
    "    \n",
    "#     x=LX_use\n",
    "    freq_qpo=1./(qpo/(1+zF_use))\n",
    "    \n",
    "    QPOMASS=np.loadtxt('/Users/baotong/Desktop/CDFS/QPO_MASS.txt')\n",
    "    MASS=QPOMASS[:,0];freqQPO=QPOMASS[:,1]\n",
    "    x2=MASS;y2=freqQPO\n",
    "    \n",
    "    def func(x,a,b):\n",
    "        return a*x+b\n",
    "    def func1(y,a,b):\n",
    "        return (y-b)/a\n",
    "    \n",
    "    xdata=np.log10(x2)\n",
    "    np.random.seed(1729)\n",
    "    y_noise = 0.2 * np.random.normal(size=xdata.size)\n",
    "    ydata = np.log10(y2) + y_noise\n",
    "    \n",
    "    plt.scatter(x2, y2)\n",
    "    \n",
    "    popt, pcov = curve_fit(func, xdata, ydata)\n",
    "    plt.plot(10**xdata, 10**func(xdata, *popt), 'r--',label='fit: a=%5.3f, b=%5.3f' % tuple(popt))\n",
    "\n",
    "    \n",
    "    y=freq_qpo\n",
    "    mass_cdfs=10**(func1(np.log10(freq_qpo),popt[0],popt[1]))\n",
    "    x=mass_cdfs\n",
    "    Ledd=EddL(x)\n",
    "    print(Ledd)\n",
    "    print(LX_use/Ledd)\n",
    "    plt.loglog()\n",
    "    plt.scatter(x,y,marker='^')\n",
    "#     plt.scatter(x2,y2,marker='^')\n",
    "    plt.show()\n",
    "    \n",
    "    "
   ]
  },
  {
   "cell_type": "code",
   "execution_count": 221,
   "metadata": {},
   "outputs": [
    {
     "data": {
      "application/vnd.jupyter.widget-view+json": {
       "model_id": "e9361a888e7848dca6c4c3fe6e1bf61f",
       "version_major": 2,
       "version_minor": 0
      },
      "text/plain": [
       "Canvas(toolbar=Toolbar(toolitems=[('Home', 'Reset original view', 'home', 'home'), ('Back', 'Back to previous …"
      ]
     },
     "metadata": {},
     "output_type": "display_data"
    },
    {
     "name": "stdout",
     "output_type": "stream",
     "text": [
      "[6.75184850e+42 1.65941164e+43 7.66413793e+42 6.55275014e+42\n",
      " 5.17152029e+42 1.41031389e+43 2.16641806e+43]\n",
      "[3.55458213 2.1091813  8.61153604 0.39677997 5.41426861 0.13472178\n",
      " 0.30003443]\n"
     ]
    }
   ],
   "source": [
    "plot_QPO_MASS()"
   ]
  },
  {
   "cell_type": "code",
   "execution_count": 217,
   "metadata": {},
   "outputs": [
    {
     "ename": "NameError",
     "evalue": "name 'plosimple_HRS' is not defined",
     "output_type": "error",
     "traceback": [
      "\u001b[0;31m---------------------------------------------------------------------------\u001b[0m",
      "\u001b[0;31mNameError\u001b[0m                                 Traceback (most recent call last)",
      "\u001b[0;32m<ipython-input-217-a41b3c985d0e>\u001b[0m in \u001b[0;36m<module>\u001b[0;34m\u001b[0m\n\u001b[0;32m----> 1\u001b[0;31m \u001b[0mplosimple_HRS\u001b[0m\u001b[0;34m(\u001b[0m\u001b[0;34m)\u001b[0m\u001b[0;34m\u001b[0m\u001b[0;34m\u001b[0m\u001b[0m\n\u001b[0m",
      "\u001b[0;31mNameError\u001b[0m: name 'plosimple_HRS' is not defined"
     ]
    }
   ],
   "source": [
    "plosimple_HRS()"
   ]
  },
  {
   "cell_type": "code",
   "execution_count": 213,
   "metadata": {},
   "outputs": [],
   "source": [
    "def simple_HR(Psrc_id):\n",
    "    soft_cts=[];hard_cts=[]\n",
    "    for i in [1,2,3,4]:\n",
    "        evt_file='/Users/baotong/Desktop/CDFS/txt_all_obs_0.5_8_ep{0}/{1}.txt'.format(i,Psrc_id)\n",
    "        epoch_file='/Users/baotong/Desktop/CDFS/txt_all_obs_0.5_8_ep{0}/epoch_src_{1}.txt'.format(i,Psrc_id)\n",
    "        evt=np.loadtxt(evt_file)\n",
    "        if len(evt)<4:\n",
    "            print(evt)\n",
    "            soft_cts.append(0);hard_cts.append(0)\n",
    "        else:\n",
    "            time=np.loadtxt(evt_file)[:,0]\n",
    "            energy=np.loadtxt(evt_file)[:,1]\n",
    "            soft_cts.append(len(np.where((energy>500)&(energy<2000))[0]))\n",
    "            hard_cts.append(len(np.where((energy>2000)&(energy<8000))[0]))\n",
    "        \n",
    "    soft_cts=np.array(soft_cts)\n",
    "    hard_cts=np.array(hard_cts)\n",
    "     \n",
    "    return [soft_cts,hard_cts]"
   ]
  },
  {
   "cell_type": "code",
   "execution_count": 214,
   "metadata": {},
   "outputs": [
    {
     "name": "stdout",
     "output_type": "stream",
     "text": [
      "[array([66, 46, 62, 98]), array([35, 45, 59, 90])]\n"
     ]
    },
    {
     "data": {
      "application/vnd.jupyter.widget-view+json": {
       "model_id": "e0acf2331c774a22bd6b7497a373075c",
       "version_major": 2,
       "version_minor": 0
      },
      "text/plain": [
       "Canvas(toolbar=Toolbar(toolitems=[('Home', 'Reset original view', 'home', 'home'), ('Back', 'Back to previous …"
      ]
     },
     "metadata": {},
     "output_type": "display_data"
    }
   ],
   "source": [
    "%matplotlib widget\n",
    "EP=[3,4,3,4,2,2,3];srcid=[127,384,106,124,51,141,867]\n",
    "for i in [0]:\n",
    "# for i in range(len(srcid)):\n",
    "    useid=srcid[i];EP_I=EP[i]\n",
    "    HR=simple_HR(str(useid))\n",
    "    print(HR)\n",
    "    res=(HR[1]-HR[0])/(HR[1]+HR[0])\n",
    "    X=[1,2,3,4]\n",
    "    Y=res\n",
    "    plt.figure(1)\n",
    "    plt.scatter(X,Y,marker='^')\n",
    "    plt.plot([EP_I,EP_I],[0,1],'--',color='red')\n",
    "    plt.show()"
   ]
  }
 ],
 "metadata": {
  "kernelspec": {
   "display_name": "Python [conda env:root]",
   "language": "python",
   "name": "conda-root-py"
  },
  "language_info": {
   "codemirror_mode": {
    "name": "ipython",
    "version": 3
   },
   "file_extension": ".py",
   "mimetype": "text/x-python",
   "name": "python",
   "nbconvert_exporter": "python",
   "pygments_lexer": "ipython3",
   "version": "3.8.5"
  }
 },
 "nbformat": 4,
 "nbformat_minor": 4
}
